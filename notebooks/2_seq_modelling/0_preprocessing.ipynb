{
 "cells": [
  {
   "cell_type": "markdown",
   "metadata": {},
   "source": [
    "# 0 Data Processing\n",
    "\n",
    "1. Initialisation\n",
    "2. Language Model Data\n",
    "3. Supervised Data\n",
    "    - 3.1 Long non-coding RNA (lncRNA) vs Messenger RNA (mRNA)\n",
    "    - 3.2 Promotor regions vs Non-promoter regions"
   ]
  },
  {
   "cell_type": "markdown",
   "metadata": {},
   "source": [
    "## 1. Initialisation"
   ]
  },
  {
   "cell_type": "code",
   "execution_count": null,
   "metadata": {},
   "outputs": [],
   "source": [
    "%reload_ext autoreload\n",
    "%autoreload 2\n",
    "%matplotlib inline"
   ]
  },
  {
   "cell_type": "code",
   "execution_count": null,
   "metadata": {},
   "outputs": [],
   "source": [
    "from pathlib import Path\n",
    "\n",
    "# Environment\n",
    "HOME_LOCAL  = Path('/home/jovyan/ml_genomics')\n",
    "HOME_REMOTE = Path('/home/athon/')\n",
    "\n",
    "# Data for Language Model - Human Reference Genome\n",
    "HOME        = HOME_REMOTE\n",
    "HUMAN       = HOME / Path('thesis/data/human/')\n",
    "\n",
    "# Labels for supervised problems\n",
    "NB_DATA     = HOME / Path('thesis/notebooks/2_seq_modelling/data')\n",
    "LNCRNA_MRNA = NB_DATA / Path('lncrna/')\n",
    "PROMOTERS   = NB_DATA / Path('promoters/')\n",
    "\n",
    "# Hyperparams\n",
    "C1  = 10000   # chunking for genomic data\n",
    "C2  = 2000    # number of tokens per row"
   ]
  },
  {
   "cell_type": "markdown",
   "metadata": {},
   "source": [
    "## 2. Language Model Data\n",
    "Parse `GRCh38 p13` human reference genome `.fasta` file using `biopython`."
   ]
  },
  {
   "cell_type": "code",
   "execution_count": null,
   "metadata": {},
   "outputs": [],
   "source": [
    "from utils import process_fasta\n",
    "\n",
    "# parse raw data\n",
    "RAW_DATA = HUMAN / 'GCF_000001405.39_GRCh38.p13_genomic.fna'\n",
    "data = process_fasta(RAW_DATA, C1, C2, filter_txt='NC_')\n",
    "\n",
    "# write to dataframe\n",
    "df = pd.DataFrame(data, columns=['Sequence'])\n",
    "df['Source'] = 'NCBI Human'\n",
    "\n",
    "# save to .csv\n",
    "df.to_csv(HUMAN / 'human_genome_data_fa.csv', index=False)"
   ]
  },
  {
   "cell_type": "markdown",
   "metadata": {},
   "source": [
    "## 3. Supervised Data\n",
    "\n",
    "### 3.1 lncRNA vs mRNA"
   ]
  },
  {
   "cell_type": "code",
   "execution_count": 3,
   "metadata": {},
   "outputs": [],
   "source": [
    "import pandas as pd\n",
    "from Bio import SeqIO\n",
    "\n",
    "def parse_fasta(path):\n",
    "    \"\"\"Read fasta data with BioPython and then save to dataframe with metadata in Name column.\n",
    "    \"\"\"\n",
    "    # read fasta\n",
    "    fasta = SeqIO.parse(path, 'fasta')\n",
    "    fs = [i for i in fasta]\n",
    "    seqs = [str(i.seq) for i in fs]\n",
    "    \n",
    "    # save to df according to name\n",
    "    name = path.split('/')[-1]\n",
    "    df = pd.DataFrame(seqs, columns=['Sequence'])\n",
    "    df['Name'] = name\n",
    "    df = df.drop_duplicates()\n",
    "    return df\n",
    "\n",
    "def partition_data(df):\n",
    "    train_size = int(len(df)*0.90)\n",
    "    valid_size = int(len(df)) - train_size\n",
    "    \n",
    "    train_df = df.sample(train_size)\n",
    "    valid_df = df.drop(train_df.index)\n",
    "    \n",
    "    train_df['set'] = 'train'\n",
    "    valid_df['set'] = 'valid'\n",
    "    \n",
    "    return pd.concat([train_df, valid_df])\n",
    "\n",
    "from glob import glob\n",
    "fasta_files = glob(str(LNCRNA_MRNA / '*.fa'))\n",
    "fasta_files\n",
    "\n",
    "data_df = pd.concat([parse_fasta(file) for file in fasta_files])\n",
    "data_df.to_csv(HUMAN/'lncRNA.csv')"
   ]
  }
 ],
 "metadata": {
  "kernelspec": {
   "display_name": "Python [conda env:.conda-thesis] *",
   "language": "python",
   "name": "conda-env-.conda-thesis-py"
  },
  "language_info": {
   "codemirror_mode": {
    "name": "ipython",
    "version": 3
   },
   "file_extension": ".py",
   "mimetype": "text/x-python",
   "name": "python",
   "nbconvert_exporter": "python",
   "pygments_lexer": "ipython3",
   "version": "3.6.8"
  }
 },
 "nbformat": 4,
 "nbformat_minor": 2
}

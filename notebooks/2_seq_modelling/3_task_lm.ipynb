{
 "cells": [
  {
   "cell_type": "markdown",
   "metadata": {},
   "source": [
    "# 3 Task Based Language Model\n",
    "\n",
    "1. Initialisation\n",
    "2. Training\n",
    "3. Fine-tuning\n",
    "4. Evaluation\n",
    "\n",
    "Dataset of interest:\n",
    "    1. Long non-coding RNA (lncRNA) vs. messenger RNA (mRNA)\n",
    "        - "
   ]
  },
  {
   "cell_type": "markdown",
   "metadata": {},
   "source": [
    "## 3.1 Initialisation\n",
    "### 3.1.1 Imports "
   ]
  },
  {
   "cell_type": "code",
   "execution_count": 1,
   "metadata": {},
   "outputs": [],
   "source": [
    "# Set it to a particular device\n",
    "import torch\n",
    "import os\n",
    "os.environ['CUDA_VISIBLE_DEVICES'] = '1'"
   ]
  },
  {
   "cell_type": "code",
   "execution_count": 2,
   "metadata": {},
   "outputs": [],
   "source": [
    "%reload_ext autoreload\n",
    "%autoreload 2\n",
    "%matplotlib inline\n",
    "\n",
    "from IPython.core.interactiveshell import InteractiveShell\n",
    "InteractiveShell.ast_node_interactivity = \"all\""
   ]
  },
  {
   "cell_type": "code",
   "execution_count": 3,
   "metadata": {},
   "outputs": [],
   "source": [
    "import pandas as pd\n",
    "from pathlib import Path\n",
    "from functools import partial\n",
    "\n",
    "from utils import tok_fixed, tok_variable, get_model_LM\n",
    "import sys; sys.path.append(\"../tools\"); from config import *\n",
    "from utils import *"
   ]
  },
  {
   "cell_type": "markdown",
   "metadata": {},
   "source": [
    "### 3.1.2 mRNA/lncRNA Data initialisation"
   ]
  },
  {
   "cell_type": "code",
   "execution_count": 4,
   "metadata": {},
   "outputs": [],
   "source": [
    "data_df = pd.read_csv(HUMAN/'lncRNA.csv', usecols=['Sequence','Name'])\n",
    "\n",
    "# data for LM fine-tuning\n",
    "df_ulm              = (data_df[data_df['Name'].str.contains('TRAIN.fa')].pipe(partition_data))\n",
    "df_tr_,df_va_       = df_ulm[df_ulm.set == 'train'], df_ulm[df_ulm.set == 'valid']\n",
    "\n",
    "# dfs for classification\n",
    "df_clas             = (data_df[data_df['Name'].str.contains('train16K')].pipe(partition_data))\n",
    "df_clas['Target']   = df_clas['Name'].map(lambda x : x.split('.')[0][:-1])\n",
    "df_tr,df_va         = df_clas[df_clas.set == 'train'], df_clas[df_clas.set == 'valid']\n",
    "df_te               = data_df[data_df['Name'].str.contains('TEST500')]"
   ]
  },
  {
   "cell_type": "code",
   "execution_count": 18,
   "metadata": {},
   "outputs": [
    {
     "data": {
      "image/png": "[encoded data removed]",
      "text/plain": [
       "<Figure size 1152x576 with 2 Axes>"
      ]
     },
     "metadata": {
      "needs_background": "light"
     },
     "output_type": "display_data"
    }
   ],
   "source": [
    "import matplotlib.pyplot as plt\n",
    "fig, axes = plt.subplots(nrows=2, figsize = (16,8));\n",
    "# suptitle = 'Domain Training Data: Distribution by Sample Length'\n",
    "# _=fig.suptitle(suptitle)\n",
    "plt.subplots_adjust(hspace=0.4)\n",
    "\n",
    "_=df_tr_['Sequence'].str.len().sort_values().head(-50).hist(bins=100, log=True, ax=axes[0], alpha=0.5, label='training')\n",
    "_=df_va_['Sequence'].str.len().sort_values().head(-50).hist(bins=100, log=True, ax=axes[0], alpha=0.5, label='validation')\n",
    "_=axes[0].set_title('Unsupervised Fine-Tuning'); _=axes[0].set_xlabel('Sample length (base-pairs)'); _=axes[0].legend(); \n",
    "axes[0].grid(False)\n",
    "# axes[0].set_xscale('log')\n",
    "\n",
    "_=df_tr['Sequence'].str.len().sort_values().hist(bins=100, ax=axes[1], alpha=0.5, label='training')\n",
    "_=df_va['Sequence'].str.len().sort_values().hist(bins=100, ax=axes[1], alpha=0.5, label='validation')\n",
    "_=axes[1].set_title('Classification Fine-Tuning'); _=axes[1].set_xlabel('Sample length (base-pairs)'); _=axes[1].legend()\n",
    "axes[1].grid(False)\n",
    "\n",
    "fig.savefig(FIGURES/'ulmfit'/suptitle.lower().replace(' ','_'), dpi=fig.dpi, bbox_inches='tight', pad_inches=0.5)"
   ]
  },
  {
   "cell_type": "markdown",
   "metadata": {},
   "source": [
    "## 3.2 LM Fine-Tuning"
   ]
  },
  {
   "cell_type": "code",
   "execution_count": 5,
   "metadata": {},
   "outputs": [
    {
     "name": "stdout",
     "output_type": "stream",
     "text": [
      "CPU times: user 52.6 s, sys: 44.5 s, total: 1min 37s\n",
      "Wall time: 2min 45s\n"
     ]
    }
   ],
   "source": [
    "%%time\n",
    "def make_experiments(df_tr, df_va):\n",
    "    \"\"\"Construct experiment based on tokenisation parameters explored.\n",
    "    \"\"\"\n",
    "    experiments = []\n",
    "\n",
    "    # fixed length\n",
    "    for i,ngram_stride in enumerate(NGRAM_STRIDE):\n",
    "        experiment = {}\n",
    "        experiment['title'] = 'fixed_{}_{}_rows_{}'.format(*ngram_stride,NROWS_TRAIN)\n",
    "        experiment['xdata'], experiment['vocab'] = tok_fixed(df_tr, df_va, *ngram_stride, bs=BS[i])\n",
    "\n",
    "        experiments.append(experiment)\n",
    "\n",
    "    # variable length   \n",
    "    for i,max_vocab in enumerate(MAX_VOCAB):\n",
    "        experiment = {}\n",
    "        experiment['title'] = 'variable_{}_rows_{}'.format(max_vocab,NROWS_TRAIN)    \n",
    "        experiment['xdata'], experiment['vocab'] = tok_variable(df_tr, df_va, max_vocab, bs=BS[i])\n",
    "\n",
    "        experiments.append(experiment)\n",
    "    return experiments\n",
    "\n",
    "experiments = make_experiments(df_tr_, df_va_)"
   ]
  },
  {
   "cell_type": "code",
   "execution_count": 6,
   "metadata": {},
   "outputs": [
    {
     "name": "stdout",
     "output_type": "stream",
     "text": [
      "variable_16384_rows_20000\n",
      "model found: loading model: variable_16384_rows_20000\n"
     ]
    },
    {
     "data": {
      "text/html": [
       "<table border=\"1\" class=\"dataframe\">\n",
       "  <thead>\n",
       "    <tr style=\"text-align: left;\">\n",
       "      <th>epoch</th>\n",
       "      <th>train_loss</th>\n",
       "      <th>valid_loss</th>\n",
       "      <th>accuracy</th>\n",
       "      <th>time</th>\n",
       "    </tr>\n",
       "  </thead>\n",
       "  <tbody>\n",
       "    <tr>\n",
       "      <td>0</td>\n",
       "      <td>8.436018</td>\n",
       "      <td>8.375731</td>\n",
       "      <td>0.056398</td>\n",
       "      <td>11:39</td>\n",
       "    </tr>\n",
       "    <tr>\n",
       "      <td>1</td>\n",
       "      <td>8.070114</td>\n",
       "      <td>8.026074</td>\n",
       "      <td>0.082648</td>\n",
       "      <td>11:40</td>\n",
       "    </tr>\n",
       "    <tr>\n",
       "      <td>2</td>\n",
       "      <td>7.789114</td>\n",
       "      <td>7.773710</td>\n",
       "      <td>0.105557</td>\n",
       "      <td>11:40</td>\n",
       "    </tr>\n",
       "    <tr>\n",
       "      <td>3</td>\n",
       "      <td>7.618844</td>\n",
       "      <td>7.615263</td>\n",
       "      <td>0.122452</td>\n",
       "      <td>11:39</td>\n",
       "    </tr>\n",
       "  </tbody>\n",
       "</table>"
      ],
      "text/plain": [
       "<IPython.core.display.HTML object>"
      ]
     },
     "metadata": {},
     "output_type": "display_data"
    }
   ],
   "source": [
    "TUNE_CONFIG     = dict(emb_sz=400, \n",
    "                       n_hid=1150, \n",
    "                       n_layers=3,\n",
    "                       pad_token=0, \n",
    "                       qrnn=False, \n",
    "                       output_p=0.25, \n",
    "                       hidden_p=0.1, \n",
    "                       input_p=0.2,\n",
    "                       embed_p=0.02, \n",
    "                       weight_p=0.15, \n",
    "                       tie_weights=True, \n",
    "                       out_bias=True)\n",
    "TUNE_DROP_MULT  = 0.25\n",
    "\n",
    "def tune_model(experiment, epochs=1):\n",
    "    config      = TUNE_CONFIG.copy()\n",
    "    drop_mult   = TUNE_DROP_MULT\n",
    "    \n",
    "    data  = experiment['xdata']\n",
    "    learn = get_model_LM(data, drop_mult, config)\n",
    "    learn = learn.to_fp16(dynamic=True); # convert model weights to 16-bit float\n",
    "    \n",
    "    model = 'models/' + experiment['title'] + '.pth'\n",
    "    if os.path.exists(HUMAN/model):\n",
    "        print('model found: loading model: {}'.format(experiment['title']))\n",
    "        learn.load(experiment['title'])\n",
    "        learn.data = data\n",
    "\n",
    "    # add callbacks\n",
    "    from fastai.callbacks.csv_logger import CSVLogger\n",
    "    learn.callback_fns.append(partial(CSVLogger, \n",
    "                                      filename='history_tune_' + experiment['title'], \n",
    "                                      append=True))\n",
    "    \n",
    "    learn.fit(epochs=epochs,wd=1e-4)\n",
    "    learn.save('tune_'+experiment['title'])\n",
    "    learn.save_encoder('tune_'+experiment['title']+'_enc')\n",
    "    \n",
    "    # free up cuda\n",
    "    del learn; del data; torch.cuda.empty_cache()\n",
    "\n",
    "for experiment in experiments[-1:]:\n",
    "    print(experiment['title'])\n",
    "    tune_model(experiment, epochs=4)"
   ]
  },
  {
   "cell_type": "markdown",
   "metadata": {},
   "source": [
    "## 3.3 Classification"
   ]
  },
  {
   "cell_type": "code",
   "execution_count": null,
   "metadata": {},
   "outputs": [],
   "source": [
    "%%time\n",
    "def make_experiments(df_tr, df_va):\n",
    "    \"\"\"Construct experiment based on tokenisation parameters explored.\n",
    "    \"\"\"\n",
    "    experiments = []\n",
    "\n",
    "    # fixed length\n",
    "    for i,ngram_stride in enumerate(NGRAM_STRIDE):\n",
    "        experiment = {}\n",
    "        experiment['title'] = 'fixed_{}_{}_rows_{}'.format(*ngram_stride,NROWS_TRAIN)\n",
    "        experiment['xdata'], experiment['vocab'] = tok_fixed(df_tr, df_va, *ngram_stride, \n",
    "                                                             bs=400, clas=True)\n",
    "\n",
    "        experiments.append(experiment)\n",
    "\n",
    "    # variable length   \n",
    "    for i,max_vocab in enumerate(MAX_VOCAB):\n",
    "        experiment = {}\n",
    "        experiment['title'] = 'variable_{}_rows_{}'.format(max_vocab,NROWS_TRAIN)\n",
    "        experiment['xdata'], experiment['vocab'] = tok_variable(df_tr, df_va, max_vocab, \n",
    "                                                                bs=400, clas=True)\n",
    "\n",
    "        experiments.append(experiment)\n",
    "        \n",
    "    return experiments\n",
    "\n",
    "experiments = make_experiments(df_tr, df_va)"
   ]
  },
  {
   "cell_type": "code",
   "execution_count": null,
   "metadata": {},
   "outputs": [],
   "source": [
    "CLAS_CONFIG     = dict(emb_sz=400, \n",
    "                       n_hid=1150, \n",
    "                       n_layers=3, \n",
    "                       pad_token=0, \n",
    "                       qrnn=False, \n",
    "                       output_p=0.4,\n",
    "                       hidden_p=0.2, \n",
    "                       input_p=0.6,\n",
    "                       embed_p=0.1, \n",
    "                       weight_p=0.5)\n",
    "CLAS_DROP_MULT  = 0.5\n",
    "\n",
    "def tune_classifier(experiment, epochs=1):\n",
    "    config      = CLAS_CONFIG.copy()\n",
    "    drop_mult   = CLAS_DROP_MULT\n",
    "\n",
    "    data  = experiment['xdata']\n",
    "    learn = get_model_clas(data, CLAS_DROP_MULT, CLAS_CONFIG, max_len=4000*70)\n",
    "    learn.load_encoder(experiment['title']+'_enc')\n",
    "    learn = learn.to_fp16(dynamic=True);\n",
    "    \n",
    "    # add callbacks\n",
    "    from fastai.callbacks.csv_logger import CSVLogger\n",
    "    learn.callback_fns.append(partial(CSVLogger, \n",
    "                                      filename='history_clas' + experiment['title'], \n",
    "                                      append=True))\n",
    "    \n",
    "    learn.freeze()\n",
    "    learn.fit_one_cycle(epochs, 5e-2, moms=(0.8, 0.7))\n",
    "    learn.save('clas_'+experiment['title'])\n",
    "    learn.save_encoder('clas_'+experiment['title']+'_enc')\n",
    "    \n",
    "tune_classifier(experiments[1], epochs=4)"
   ]
  },
  {
   "cell_type": "code",
   "execution_count": null,
   "metadata": {},
   "outputs": [],
   "source": [
    "CLAS_CONFIG     = dict(emb_sz=400, \n",
    "                       n_hid=1150, \n",
    "                       n_layers=3, \n",
    "                       pad_token=0, \n",
    "                       qrnn=False, \n",
    "                       output_p=0.4,\n",
    "                       hidden_p=0.2, \n",
    "                       input_p=0.6,\n",
    "                       embed_p=0.1, \n",
    "                       weight_p=0.5)\n",
    "CLAS_DROP_MULT  = 0.5\n",
    "tune_classifier(experiments[1], epochs=4)"
   ]
  },
  {
   "cell_type": "markdown",
   "metadata": {},
   "source": [
    "## 3.4 Evaluation\n",
    "We now evaluate every model trained for classification performance on the `TEST500` dataset.\n",
    "All models have been trained for 10 epochs unsupervised, then fine tuned for an additional 8 epochs on long read ncRNA and mRNA data. We plot confusion matrices for each model, as well as a comparative accuracy plot."
   ]
  },
  {
   "cell_type": "code",
   "execution_count": null,
   "metadata": {},
   "outputs": [],
   "source": [
    "get_scores(learn)"
   ]
  },
  {
   "cell_type": "markdown",
   "metadata": {},
   "source": [
    "## 3.5 Explainability\n",
    "We would like to visualise the model's attention at the intersection between coding and non-coding regions.\n",
    "- We would like to identify a subset of the model's embedding that captures the majority of this variance\n",
    "- We could call this the `coding neuron`"
   ]
  },
  {
   "cell_type": "code",
   "execution_count": null,
   "metadata": {},
   "outputs": [],
   "source": []
  }
 ],
 "metadata": {
  "kernelspec": {
   "display_name": "Python [conda env:.conda-thesis] *",
   "language": "python",
   "name": "conda-env-.conda-thesis-py"
  },
  "language_info": {
   "codemirror_mode": {
    "name": "ipython",
    "version": 3
   },
   "file_extension": ".py",
   "mimetype": "text/x-python",
   "name": "python",
   "nbconvert_exporter": "python",
   "pygments_lexer": "ipython3",
   "version": "3.6.8"
  }
 },
 "nbformat": 4,
 "nbformat_minor": 2
}

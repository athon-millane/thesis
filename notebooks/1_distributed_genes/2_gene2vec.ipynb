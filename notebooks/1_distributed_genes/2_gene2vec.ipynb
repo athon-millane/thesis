{
 "cells": [
  {
   "cell_type": "markdown",
   "metadata": {},
   "source": [
    "### Gene2Vec Experiments\n",
    "Attempting to recreate results of [gene2vec paper](https://doi.org/10.1186/s12864-018-5370-x)\n",
    "\n",
    "1. [Import known gene pathways from MSigDB](#pathways)\n",
    "2. [Generate pairs of genes from gene pathway sets](#pairs)\n",
    "3. [Use `gensim` to train with gene2vec](#gensim)\n",
    "4. [Visualise embeddings with PCA and tSNE](#vis)\n",
    "5. [Load and preprocess somatic mutations from TCGA in BigQuery](#tcga)\n",
    "6. [Produce 2D images for every sample](#2d)\n",
    "7. [Model Training](#training) \n",
    "    - 7.1 [7.1 Ensemble of sklearn models on flat data (baseline on sparse samples)](#sklearn)\n",
    "    - 7.2 [Random Forest on images](#rf)\n",
    "    - 7.3 [ResNet50 w ImageNet weight initialisation (FastAI)](#fastai)"
   ]
  },
  {
   "cell_type": "markdown",
   "metadata": {},
   "source": [
    "#### 0. Initialisation, Imports, Environment Variables\n",
    "<a id=\"pathways\"></a>"
   ]
  },
  {
   "cell_type": "code",
   "execution_count": 1,
   "metadata": {},
   "outputs": [],
   "source": [
    "from IPython.core.interactiveshell import InteractiveShell\n",
    "InteractiveShell.ast_node_interactivity = \"all\""
   ]
  },
  {
   "cell_type": "code",
   "execution_count": 2,
   "metadata": {},
   "outputs": [],
   "source": [
    "import io, os, sys, time, datetime, math, random\n",
    "\n",
    "# dataproc\n",
    "import pandas as pd\n",
    "import numpy as np\n",
    "import pickle as pkl\n",
    "import matplotlib.pyplot as plt, matplotlib.image as img\n",
    "\n",
    "# gene2vec\n",
    "import gensim\n",
    "from gensim.models.keyedvectors import KeyedVectors\n",
    "from sklearn.decomposition import PCA\n",
    "from multiprocessing import Pool\n",
    "\n",
    "# pytorch and fastai\n",
    "from fastai import *\n",
    "from fastai.vision import *\n",
    "from sklearn.datasets import fetch_mldata\n",
    "from sklearn.model_selection import train_test_split"
   ]
  },
  {
   "cell_type": "code",
   "execution_count": 3,
   "metadata": {},
   "outputs": [],
   "source": [
    "## word2vec parameters\n",
    "W2V_DIMENSION   = 256   # dimension of the embedding\n",
    "W2V_NUM_WORKERS = 96    # number of worker threads\n",
    "W2V_MIN_COUNT   = 1     # ignores all words with total frequency lower than this\n",
    "W2V_SG          = 1     # sg =1, skip-gram, sg =0, CBOW\n",
    "W2V_N_ITER      = 10    # number of iterations\n",
    "W2V_WINDOW_SIZE = 1     # The maximum distance between the gene and predicted gene within a gene list\n",
    "W2V_NEGATIVE    = 3     # number of negative samples\n",
    "\n",
    "# Environment variables\n",
    "MSIGDB          = '../../data/gene2vec/msigdb.v6.2.symbols.gmt'\n",
    "GENE_PAIRS      = '../../data/gene2vec/gene_pairs_set.pkl'\n",
    "GENE2VEC_DIR    = '../../models/gene2vec/'\n",
    "TCGA            = '../../data/tcga/processed_somatic_mutations_subset.csv'\n",
    "INTOGEN         = '../../data/drivers/intogen-drivers-data.tsv'\n",
    "EXP1_DIR        = '../../models/sklearn-ensemble/'\n",
    "FIGURES         = '../../figures/'"
   ]
  },
  {
   "cell_type": "code",
   "execution_count": 4,
   "metadata": {},
   "outputs": [],
   "source": [
    "# Helper functions #\n",
    "\n",
    "def size(obj, suffix='B'):\n",
    "    \"\"\"\n",
    "    Get the size of provided object in human readable format.\n",
    "    \"\"\"\n",
    "    import sys\n",
    "    num = sys.getsizeof(obj)\n",
    "    for unit in ['','Ki','Mi','Gi','Ti','Pi','Ei','Zi']:\n",
    "        if abs(num) < 1024.0:\n",
    "            return \"%3.1f%s%s\" % (num, unit, suffix)\n",
    "        num /= 1024.0\n",
    "    return \"%.1f%s%s\" % (num, 'Yi', suffix)\n",
    "\n",
    "def freememory():\n",
    "    \"\"\"\n",
    "    Run garbage collection to free up memory.\n",
    "    \"\"\"\n",
    "    import gc\n",
    "    gc.collect()"
   ]
  },
  {
   "cell_type": "markdown",
   "metadata": {},
   "source": [
    "#### 1. Import known gene pathways from [MSigDB](http://software.broadinstitute.org/gsea/msigdb/collections.jsp)\n",
    "<a id=\"pathways\"></a>"
   ]
  },
  {
   "cell_type": "code",
   "execution_count": 5,
   "metadata": {},
   "outputs": [],
   "source": [
    "def _get_data(line):\n",
    "    \"\"\"\n",
    "    Read pathway name and set of genes from each line, parsing gene appropriately.\n",
    "    \"\"\"\n",
    "    name, _, genes = line.split(\"\\t\", 2)\n",
    "    return name, set(gene.replace('\\n', '') for gene in genes.split(\"\\t\"))\n",
    "\n",
    "def load_msigdb():\n",
    "    \"\"\"\n",
    "    Read msigdb pathways file line by line and parse into useful dataframe.\n",
    "    \"\"\"\n",
    "    with open(MSIGDB, 'r') as fp:\n",
    "        pathways_df = pd.DataFrame(data=[_get_data(line) for line in fp],\n",
    "                                   columns=[\"name\", \"set\"])\n",
    "        \n",
    "    return pathways_df"
   ]
  },
  {
   "cell_type": "code",
   "execution_count": 51,
   "metadata": {},
   "outputs": [
    {
     "data": {
      "text/plain": [
       "\u001b[0;31mSignature:\u001b[0m\n",
       "\u001b[0msns\u001b[0m\u001b[0;34m.\u001b[0m\u001b[0mkdeplot\u001b[0m\u001b[0;34m(\u001b[0m\u001b[0;34m\u001b[0m\n",
       "\u001b[0;34m\u001b[0m    \u001b[0mdata\u001b[0m\u001b[0;34m,\u001b[0m\u001b[0;34m\u001b[0m\n",
       "\u001b[0;34m\u001b[0m    \u001b[0mdata2\u001b[0m\u001b[0;34m=\u001b[0m\u001b[0;32mNone\u001b[0m\u001b[0;34m,\u001b[0m\u001b[0;34m\u001b[0m\n",
       "\u001b[0;34m\u001b[0m    \u001b[0mshade\u001b[0m\u001b[0;34m=\u001b[0m\u001b[0;32mFalse\u001b[0m\u001b[0;34m,\u001b[0m\u001b[0;34m\u001b[0m\n",
       "\u001b[0;34m\u001b[0m    \u001b[0mvertical\u001b[0m\u001b[0;34m=\u001b[0m\u001b[0;32mFalse\u001b[0m\u001b[0;34m,\u001b[0m\u001b[0;34m\u001b[0m\n",
       "\u001b[0;34m\u001b[0m    \u001b[0mkernel\u001b[0m\u001b[0;34m=\u001b[0m\u001b[0;34m'gau'\u001b[0m\u001b[0;34m,\u001b[0m\u001b[0;34m\u001b[0m\n",
       "\u001b[0;34m\u001b[0m    \u001b[0mbw\u001b[0m\u001b[0;34m=\u001b[0m\u001b[0;34m'scott'\u001b[0m\u001b[0;34m,\u001b[0m\u001b[0;34m\u001b[0m\n",
       "\u001b[0;34m\u001b[0m    \u001b[0mgridsize\u001b[0m\u001b[0;34m=\u001b[0m\u001b[0;36m100\u001b[0m\u001b[0;34m,\u001b[0m\u001b[0;34m\u001b[0m\n",
       "\u001b[0;34m\u001b[0m    \u001b[0mcut\u001b[0m\u001b[0;34m=\u001b[0m\u001b[0;36m3\u001b[0m\u001b[0;34m,\u001b[0m\u001b[0;34m\u001b[0m\n",
       "\u001b[0;34m\u001b[0m    \u001b[0mclip\u001b[0m\u001b[0;34m=\u001b[0m\u001b[0;32mNone\u001b[0m\u001b[0;34m,\u001b[0m\u001b[0;34m\u001b[0m\n",
       "\u001b[0;34m\u001b[0m    \u001b[0mlegend\u001b[0m\u001b[0;34m=\u001b[0m\u001b[0;32mTrue\u001b[0m\u001b[0;34m,\u001b[0m\u001b[0;34m\u001b[0m\n",
       "\u001b[0;34m\u001b[0m    \u001b[0mcumulative\u001b[0m\u001b[0;34m=\u001b[0m\u001b[0;32mFalse\u001b[0m\u001b[0;34m,\u001b[0m\u001b[0;34m\u001b[0m\n",
       "\u001b[0;34m\u001b[0m    \u001b[0mshade_lowest\u001b[0m\u001b[0;34m=\u001b[0m\u001b[0;32mTrue\u001b[0m\u001b[0;34m,\u001b[0m\u001b[0;34m\u001b[0m\n",
       "\u001b[0;34m\u001b[0m    \u001b[0mcbar\u001b[0m\u001b[0;34m=\u001b[0m\u001b[0;32mFalse\u001b[0m\u001b[0;34m,\u001b[0m\u001b[0;34m\u001b[0m\n",
       "\u001b[0;34m\u001b[0m    \u001b[0mcbar_ax\u001b[0m\u001b[0;34m=\u001b[0m\u001b[0;32mNone\u001b[0m\u001b[0;34m,\u001b[0m\u001b[0;34m\u001b[0m\n",
       "\u001b[0;34m\u001b[0m    \u001b[0mcbar_kws\u001b[0m\u001b[0;34m=\u001b[0m\u001b[0;32mNone\u001b[0m\u001b[0;34m,\u001b[0m\u001b[0;34m\u001b[0m\n",
       "\u001b[0;34m\u001b[0m    \u001b[0max\u001b[0m\u001b[0;34m=\u001b[0m\u001b[0;32mNone\u001b[0m\u001b[0;34m,\u001b[0m\u001b[0;34m\u001b[0m\n",
       "\u001b[0;34m\u001b[0m    \u001b[0;34m**\u001b[0m\u001b[0mkwargs\u001b[0m\u001b[0;34m,\u001b[0m\u001b[0;34m\u001b[0m\n",
       "\u001b[0;34m\u001b[0m\u001b[0;34m)\u001b[0m\u001b[0;34m\u001b[0m\u001b[0;34m\u001b[0m\u001b[0m\n",
       "\u001b[0;31mDocstring:\u001b[0m\n",
       "Fit and plot a univariate or bivariate kernel density estimate.\n",
       "\n",
       "Parameters\n",
       "----------\n",
       "data : 1d array-like\n",
       "    Input data.\n",
       "data2: 1d array-like, optional\n",
       "    Second input data. If present, a bivariate KDE will be estimated.\n",
       "shade : bool, optional\n",
       "    If True, shade in the area under the KDE curve (or draw with filled\n",
       "    contours when data is bivariate).\n",
       "vertical : bool, optional\n",
       "    If True, density is on x-axis.\n",
       "kernel : {'gau' | 'cos' | 'biw' | 'epa' | 'tri' | 'triw' }, optional\n",
       "    Code for shape of kernel to fit with. Bivariate KDE can only use\n",
       "    gaussian kernel.\n",
       "bw : {'scott' | 'silverman' | scalar | pair of scalars }, optional\n",
       "    Name of reference method to determine kernel size, scalar factor,\n",
       "    or scalar for each dimension of the bivariate plot. Note that the\n",
       "    underlying computational libraries have different interperetations\n",
       "    for this parameter: ``statsmodels`` uses it directly, but ``scipy``\n",
       "    treats it as a scaling factor for the standard deviation of the\n",
       "    data.\n",
       "gridsize : int, optional\n",
       "    Number of discrete points in the evaluation grid.\n",
       "cut : scalar, optional\n",
       "    Draw the estimate to cut * bw from the extreme data points.\n",
       "clip : pair of scalars, or pair of pair of scalars, optional\n",
       "    Lower and upper bounds for datapoints used to fit KDE. Can provide\n",
       "    a pair of (low, high) bounds for bivariate plots.\n",
       "legend : bool, optional\n",
       "    If True, add a legend or label the axes when possible.\n",
       "cumulative : bool, optional\n",
       "    If True, draw the cumulative distribution estimated by the kde.\n",
       "shade_lowest : bool, optional\n",
       "    If True, shade the lowest contour of a bivariate KDE plot. Not\n",
       "    relevant when drawing a univariate plot or when ``shade=False``.\n",
       "    Setting this to ``False`` can be useful when you want multiple\n",
       "    densities on the same Axes.\n",
       "cbar : bool, optional\n",
       "    If True and drawing a bivariate KDE plot, add a colorbar.\n",
       "cbar_ax : matplotlib axes, optional\n",
       "    Existing axes to draw the colorbar onto, otherwise space is taken\n",
       "    from the main axes.\n",
       "cbar_kws : dict, optional\n",
       "    Keyword arguments for ``fig.colorbar()``.\n",
       "ax : matplotlib axes, optional\n",
       "    Axes to plot on, otherwise uses current axes.\n",
       "kwargs : key, value pairings\n",
       "    Other keyword arguments are passed to ``plt.plot()`` or\n",
       "    ``plt.contour{f}`` depending on whether a univariate or bivariate\n",
       "    plot is being drawn.\n",
       "\n",
       "Returns\n",
       "-------\n",
       "ax : matplotlib Axes\n",
       "    Axes with plot.\n",
       "\n",
       "See Also\n",
       "--------\n",
       "distplot: Flexibly plot a univariate distribution of observations.\n",
       "jointplot: Plot a joint dataset with bivariate and marginal distributions.\n",
       "\n",
       "Examples\n",
       "--------\n",
       "\n",
       "Plot a basic univariate density:\n",
       "\n",
       ".. plot::\n",
       "    :context: close-figs\n",
       "\n",
       "    >>> import numpy as np; np.random.seed(10)\n",
       "    >>> import seaborn as sns; sns.set(color_codes=True)\n",
       "    >>> mean, cov = [0, 2], [(1, .5), (.5, 1)]\n",
       "    >>> x, y = np.random.multivariate_normal(mean, cov, size=50).T\n",
       "    >>> ax = sns.kdeplot(x)\n",
       "\n",
       "Shade under the density curve and use a different color:\n",
       "\n",
       ".. plot::\n",
       "    :context: close-figs\n",
       "\n",
       "    >>> ax = sns.kdeplot(x, shade=True, color=\"r\")\n",
       "\n",
       "Plot a bivariate density:\n",
       "\n",
       ".. plot::\n",
       "    :context: close-figs\n",
       "\n",
       "    >>> ax = sns.kdeplot(x, y)\n",
       "\n",
       "Use filled contours:\n",
       "\n",
       ".. plot::\n",
       "    :context: close-figs\n",
       "\n",
       "    >>> ax = sns.kdeplot(x, y, shade=True)\n",
       "\n",
       "Use more contour levels and a different color palette:\n",
       "\n",
       ".. plot::\n",
       "    :context: close-figs\n",
       "\n",
       "    >>> ax = sns.kdeplot(x, y, n_levels=30, cmap=\"Purples_d\")\n",
       "\n",
       "Use a narrower bandwith:\n",
       "\n",
       ".. plot::\n",
       "    :context: close-figs\n",
       "\n",
       "    >>> ax = sns.kdeplot(x, bw=.15)\n",
       "\n",
       "Plot the density on the vertical axis:\n",
       "\n",
       ".. plot::\n",
       "    :context: close-figs\n",
       "\n",
       "    >>> ax = sns.kdeplot(y, vertical=True)\n",
       "\n",
       "Limit the density curve within the range of the data:\n",
       "\n",
       ".. plot::\n",
       "    :context: close-figs\n",
       "\n",
       "    >>> ax = sns.kdeplot(x, cut=0)\n",
       "\n",
       "Add a colorbar for the contours:\n",
       "\n",
       ".. plot::\n",
       "    :context: close-figs\n",
       "\n",
       "    >>> ax = sns.kdeplot(x, y, cbar=True)\n",
       "\n",
       "Plot two shaded bivariate densities:\n",
       "\n",
       ".. plot::\n",
       "    :context: close-figs\n",
       "\n",
       "    >>> iris = sns.load_dataset(\"iris\")\n",
       "    >>> setosa = iris.loc[iris.species == \"setosa\"]\n",
       "    >>> virginica = iris.loc[iris.species == \"virginica\"]\n",
       "    >>> ax = sns.kdeplot(setosa.sepal_width, setosa.sepal_length,\n",
       "    ...                  cmap=\"Reds\", shade=True, shade_lowest=False)\n",
       "    >>> ax = sns.kdeplot(virginica.sepal_width, virginica.sepal_length,\n",
       "    ...                  cmap=\"Blues\", shade=True, shade_lowest=False)\n",
       "\u001b[0;31mFile:\u001b[0m      ~/.conda/envs/thesis/lib/python3.6/site-packages/seaborn/distributions.py\n",
       "\u001b[0;31mType:\u001b[0m      function\n"
      ]
     },
     "metadata": {},
     "output_type": "display_data"
    }
   ],
   "source": [
    "?sns.kdeplot"
   ]
  },
  {
   "cell_type": "code",
   "execution_count": 6,
   "metadata": {},
   "outputs": [],
   "source": [
    "pathways_df = load_msigdb()"
   ]
  },
  {
   "cell_type": "code",
   "execution_count": 81,
   "metadata": {},
   "outputs": [
    {
     "data": {
      "text/plain": [
       "(-10, 400)"
      ]
     },
     "execution_count": 81,
     "metadata": {},
     "output_type": "execute_result"
    },
    {
     "data": {
      "image/png": "[encoded data removed]",
      "text/plain": [
       "<Figure size 1152x576 with 1 Axes>"
      ]
     },
     "metadata": {},
     "output_type": "display_data"
    }
   ],
   "source": [
    "data = pathways_df['set'].apply(lambda x: len(x)).sort_values(ascending=False).values\n",
    "import numpy as np; import matplotlib.pyplot as plt\n",
    "import seaborn as sns\n",
    "fig=plt.figure(figsize=(16,8))\n",
    "sns.set_style('whitegrid')\n",
    "plt_ = sns.distplot(np.array(data), bins=200, kde_kws={\"kernel\":\"gau\", \"bw\":\"5\", \"gridsize\":2000})\n",
    "plt_.grid(False)\n",
    "ax = plt_.axes; ax.set_xlim(-10,400)\n",
    "fig.savefig(\"../../figures/pathways_dist.png\")"
   ]
  },
  {
   "cell_type": "code",
   "execution_count": 86,
   "metadata": {},
   "outputs": [
    {
     "data": {
      "text/plain": [
       "0        {RAB10, CACNG3, RRS1, MAML3, SNX25, ACTB, FOXN...\n",
       "1        {EFNA1, DIDO1, VKORC1L1, B4GALT6, C11orf92, HG...\n",
       "2        {CHRNG, PLXNC1, TNFRSF21, KAZALD1, EFNA1, C1QC...\n",
       "3        {SHCBP1L, EFNA1, C1QC, TMEM105, GRB2, EPHB6, V...\n",
       "4        {ERBB4, NR3C2, PRPF38B, ALDH6A1, ZIC4, BHLHE40...\n",
       "5        {PDIA3, CLIC1, PCSK4, NTN3, MAPRE3, NUDT3, RGS...\n",
       "6        {CACNG3, SEC24B, PRKAG2, ST3GAL1, TSEN54, GRRP...\n",
       "7        {TIMP2, IGJ, HS3ST5, ZIC4, MYH6, TBC1D16, DPYS...\n",
       "8        {RPL28, ESRRA, PRKAG2, MTPN, GPA33, PRDM1, NCK...\n",
       "9        {RAB10, ADAM10, SIX4, MYADM, NOL4, NFE2L1, PAC...\n",
       "10       {PDHA2, IL17B, KLF14, ACCN1, CREB5, SENP1, VAM...\n",
       "11       {DCTN1, ZFY, GTF2A1, NCALD, SEC62, MBNL2, SIK2...\n",
       "12       {PRRX1, HOXD4, UNC5C, SYNPO2L, EMX2, COLEC10, ...\n",
       "13       {DNMT1, ECEL1, ARID4A, HIST1H2AM, ALDH6A1, AP1...\n",
       "14       {MYL12A, C3orf19, GGT7, IMP3, PRKAG2, MTPN, C1...\n",
       "15       {RASGRF1, TIMP2, PANK1, MRPS23, ARAP2, SIPA1L1...\n",
       "16       {C3orf19, GPN2, ARF3, BCDIN3D, PRKAG2, PPIL1, ...\n",
       "17       {MRPL50, INVS, PRDM1, CCDC25, SIX4, PRL, SREK1...\n",
       "18       {EPN3, SERPINI1, CXXC5, PML, SHISA6, PRKAG2, Z...\n",
       "19       {CST7, BAG2, CLIC1, TINAG, SHISA6, PRDM1, SPRE...\n",
       "20       {RAI1, SENP2, DCTN1, NCALD, MBNL2, SCG2, SYNGR...\n",
       "21       {ERGIC1, PREX2, PRDM8, SYT6, EEF2, ZDHHC5, GRH...\n",
       "22       {RAI1, SENP2, DCTN1, NCALD, MBNL2, SCG2, SYNGR...\n",
       "23       {ERBB4, PRICKLE3, MIR137HG, ZBTB22, NFIA, DNAJ...\n",
       "24       {ERGIC1, NMT2, PREX2, PRDM8, UCHL1, SGK494, EE...\n",
       "25       {ARID4A, PHF5A, ALDH6A1, PCIF1, CTDSPL2, LOC14...\n",
       "26       {PCDH12, RBMS1, CACNG3, ZIC4, TSEN54, SIX4, CT...\n",
       "27       {PCDH12, RBMS1, CACNG3, ZIC4, TSEN54, SIX4, CT...\n",
       "28       {MIR137HG, U2AF1L4, INVS, CCDC25, FUK, MARS, R...\n",
       "29       {RBMS1, HSD11B2, EDN2, GREM1, DAP3, ZSCAN29, G...\n",
       "                               ...                        \n",
       "17780    {MDM1, MBNL2, ABHD10, NPAT, C8orf4, CHEK1, NCO...\n",
       "17781    {TNFRSF21, BMP2, SUV420H1, BRD8, NUSAP1, CDC25...\n",
       "17782    {TOE1, BRD8, NUSAP1, OXNAD1, LSM3, CDC25C, CDK...\n",
       "17783    {ADAM10, PLCE1, ZNF483, BRD8, SIPA1L1, PARP1, ...\n",
       "17784    {ADAM10, PARP1, VIPR2, ZZEF1, CABLES1, COMMD10...\n",
       "17785    {ADAM10, PLCE1, ZNF483, SIPA1L1, PARP1, C3orf7...\n",
       "17786    {GALNT12, PSCA, SLC16A3, LAMB3, GPA33, SIX4, C...\n",
       "17787    {PAQR5, LOXL4, DCDC2, KCNF1, ABHD3, HIST1H4H, ...\n",
       "17788    {RNF14, PARP1, MED31, PDZK1, ELAC2, MRS2, KLHL...\n",
       "17789    {TSEN34, KCNMB4, RBMS1, DDR2, PDZRN3, ALOX5, E...\n",
       "17790    {DEPDC1B, DDX27, PHTF2, GABRB3, RAB13, ANP32B,...\n",
       "17791    {RETSAT, SHBG, MPDZ, SLC1A1, ABCB11, GLYAT, NG...\n",
       "17792    {GORASP2, UBE2C, CD24, YY1AP1, NARF, HDLBP, PG...\n",
       "17793    {GLYAT, PAH, ZFAND5, PCK1, SLC38A4, PIK3R1, PO...\n",
       "17794    {RPIA, ZSWIM1, ZDHHC7, RPL27A, CTSL2, RPS12, C...\n",
       "17795    {GPX2, RETSAT, AOX1, AKR7A3, CEBPB, TNIP1, SLC...\n",
       "17796    {PFKFB3, PPT1, SLC38A1, SPHK1, DDIT4, HN1, RGS...\n",
       "17797    {C1orf115, PAH, SLC2A2, EPHX2, MST1, PKLR, PLG...\n",
       "17798    {SERPINF1, ISLR, GABBR1, IGFBP5, PRELP, CNN1, ...\n",
       "17799    {DDR2, TIMP2, FCGR2B, GAMT, MXRA8, DAB2, FAM65...\n",
       "17800    {TMC4, TMEM79, MYO5B, GRHL1, CKMT1B, ERBB3, NI...\n",
       "17801    {BMP2, FABP5, APCDD1, CWH43, VAV3, KRT71, KRTA...\n",
       "17802    {HP, HPGD, MUC15, PLCE1, ARMCX2, UGT8, ALDH1A3...\n",
       "17803    {TESC, DHRS7, GNE, TSPAN13, TPD52L1, NCALD, CH...\n",
       "17804    {HPGD, STEAP1, CXCR7, WNT5B, TNFAIP2, ST6GAL1,...\n",
       "17805    {CGNL1, WDR72, LTK, TSPAN15, ITPKA, ADCYAP1R1,...\n",
       "17806    {TSPAN11, IFITM1, BMP2, LRRC8C, COL2A1, HAS2, ...\n",
       "17807    {NUSAP1, HSD17B11, DEPDC1B, SERPINE1, CDK1, SK...\n",
       "17808    {TM4SF19, APCDD1, GPR83, VAV3, DPPA4, SHROOM4,...\n",
       "17809    {ZIM3, MAP1LC3C, LINC02108, AHSP, FAM177B, ARH...\n",
       "Name: set, Length: 17810, dtype: object"
      ]
     },
     "execution_count": 86,
     "metadata": {},
     "output_type": "execute_result"
    }
   ],
   "source": [
    "pathways_df['set']"
   ]
  },
  {
   "cell_type": "markdown",
   "metadata": {},
   "source": [
    "#### 2. Generate pairs of genes from gene pathway sets\n",
    "<a id=\"pairs\"></a>"
   ]
  },
  {
   "cell_type": "code",
   "execution_count": 83,
   "metadata": {},
   "outputs": [],
   "source": [
    "def generate_gene_pairs(gene_set):\n",
    "    \"\"\"\n",
    "    Get gene pairs\n",
    "    \"\"\"\n",
    "    from itertools import combinations\n",
    "    # Get all combinations of length 2 \n",
    "    pairs = combinations(list(gene_set), 2)\n",
    "    return set(pairs)\n",
    "\n",
    "def get_pairs_set(df):\n",
    "    \"\"\"\n",
    "    Return the set union of all pairs from every gene set within the df.\n",
    "    \"\"\"\n",
    "    return set.union(*df['pairs'].tolist())\n",
    "\n",
    "def load_pairs():\n",
    "    \"\"\"\n",
    "    If gene pairs file exists, load it. Otherwise, create it and save to gene pairs file.\n",
    "    \"\"\"\n",
    "    if os.path.isfile(GENE_PAIRS):\n",
    "        print(\"Reading gene pairs file.\")\n",
    "        with open (GENE_PAIRS, 'rb') as f:\n",
    "            gene_pairs = pkl.load(f)\n",
    "    else:\n",
    "        print(\"Creating new gene pairs file.\")\n",
    "        pathways_df['pairs'] = (pathways_df.set\n",
    "                                           .apply(generate_gene_pairs))\n",
    "        gene_pairs = pathways_df.pipe(get_pairs_set)\n",
    "\n",
    "        with open (GENE_PAIRS, 'wb') as f:\n",
    "            pkl.dump(gene_pairs, f)\n",
    "            \n",
    "    return gene_pairs"
   ]
  },
  {
   "cell_type": "code",
   "execution_count": 84,
   "metadata": {},
   "outputs": [
    {
     "name": "stdout",
     "output_type": "stream",
     "text": [
      "Reading gene pairs file.\n"
     ]
    },
    {
     "ename": "KeyboardInterrupt",
     "evalue": "",
     "output_type": "error",
     "traceback": [
      "\u001b[0;31m---------------------------------------------------------------------------\u001b[0m",
      "\u001b[0;31mMemoryError\u001b[0m                               Traceback (most recent call last)",
      "\u001b[0;32m<ipython-input-83-3855bd93ec3f>\u001b[0m in \u001b[0;36mload_pairs\u001b[0;34m()\u001b[0m\n\u001b[1;32m     22\u001b[0m         \u001b[0;32mwith\u001b[0m \u001b[0mopen\u001b[0m \u001b[0;34m(\u001b[0m\u001b[0mGENE_PAIRS\u001b[0m\u001b[0;34m,\u001b[0m \u001b[0;34m'rb'\u001b[0m\u001b[0;34m)\u001b[0m \u001b[0;32mas\u001b[0m \u001b[0mf\u001b[0m\u001b[0;34m:\u001b[0m\u001b[0;34m\u001b[0m\u001b[0;34m\u001b[0m\u001b[0m\n\u001b[0;32m---> 23\u001b[0;31m             \u001b[0mgene_pairs\u001b[0m \u001b[0;34m=\u001b[0m \u001b[0mpkl\u001b[0m\u001b[0;34m.\u001b[0m\u001b[0mload\u001b[0m\u001b[0;34m(\u001b[0m\u001b[0mf\u001b[0m\u001b[0;34m)\u001b[0m\u001b[0;34m\u001b[0m\u001b[0;34m\u001b[0m\u001b[0m\n\u001b[0m\u001b[1;32m     24\u001b[0m     \u001b[0;32melse\u001b[0m\u001b[0;34m:\u001b[0m\u001b[0;34m\u001b[0m\u001b[0;34m\u001b[0m\u001b[0m\n",
      "\u001b[0;31mMemoryError\u001b[0m: ",
      "\nDuring handling of the above exception, another exception occurred:\n",
      "\u001b[0;31mKeyboardInterrupt\u001b[0m                         Traceback (most recent call last)",
      "\u001b[0;32m<timed exec>\u001b[0m in \u001b[0;36m<module>\u001b[0;34m\u001b[0m\n",
      "\u001b[0;32m<ipython-input-83-3855bd93ec3f>\u001b[0m in \u001b[0;36mload_pairs\u001b[0;34m()\u001b[0m\n\u001b[1;32m     21\u001b[0m         \u001b[0mprint\u001b[0m\u001b[0;34m(\u001b[0m\u001b[0;34m\"Reading gene pairs file.\"\u001b[0m\u001b[0;34m)\u001b[0m\u001b[0;34m\u001b[0m\u001b[0;34m\u001b[0m\u001b[0m\n\u001b[1;32m     22\u001b[0m         \u001b[0;32mwith\u001b[0m \u001b[0mopen\u001b[0m \u001b[0;34m(\u001b[0m\u001b[0mGENE_PAIRS\u001b[0m\u001b[0;34m,\u001b[0m \u001b[0;34m'rb'\u001b[0m\u001b[0;34m)\u001b[0m \u001b[0;32mas\u001b[0m \u001b[0mf\u001b[0m\u001b[0;34m:\u001b[0m\u001b[0;34m\u001b[0m\u001b[0;34m\u001b[0m\u001b[0m\n\u001b[0;32m---> 23\u001b[0;31m             \u001b[0mgene_pairs\u001b[0m \u001b[0;34m=\u001b[0m \u001b[0mpkl\u001b[0m\u001b[0;34m.\u001b[0m\u001b[0mload\u001b[0m\u001b[0;34m(\u001b[0m\u001b[0mf\u001b[0m\u001b[0;34m)\u001b[0m\u001b[0;34m\u001b[0m\u001b[0;34m\u001b[0m\u001b[0m\n\u001b[0m\u001b[1;32m     24\u001b[0m     \u001b[0;32melse\u001b[0m\u001b[0;34m:\u001b[0m\u001b[0;34m\u001b[0m\u001b[0;34m\u001b[0m\u001b[0m\n\u001b[1;32m     25\u001b[0m         \u001b[0mprint\u001b[0m\u001b[0;34m(\u001b[0m\u001b[0;34m\"Creating new gene pairs file.\"\u001b[0m\u001b[0;34m)\u001b[0m\u001b[0;34m\u001b[0m\u001b[0;34m\u001b[0m\u001b[0m\n",
      "\u001b[0;31mKeyboardInterrupt\u001b[0m: "
     ]
    }
   ],
   "source": [
    "%%time\n",
    "gene_pairs = load_pairs()"
   ]
  },
  {
   "cell_type": "code",
   "execution_count": 12,
   "metadata": {},
   "outputs": [
    {
     "data": {
      "text/plain": [
       "144603456"
      ]
     },
     "execution_count": 12,
     "metadata": {},
     "output_type": "execute_result"
    }
   ],
   "source": [
    "len(gene_pairs)"
   ]
  },
  {
   "cell_type": "code",
   "execution_count": null,
   "metadata": {},
   "outputs": [],
   "source": [
    "freememory()"
   ]
  },
  {
   "cell_type": "markdown",
   "metadata": {},
   "source": [
    "#### 3. Use [`gensim`](https://radimrehurek.com/gensim/models/word2vec.html) to train with gene2vec\n",
    "<a id=\"gene2vec\"></a>\n",
    "- With a c compile installed `gensim` offers a [70x speedup compared to plain NumPy implementation](https://rare-technologies.com/parallelizing-word2vec-in-python/)"
   ]
  },
  {
   "cell_type": "code",
   "execution_count": null,
   "metadata": {},
   "outputs": [],
   "source": [
    "def train_word2vec(gene_pairs, dimension=W2V_DIMENSION):\n",
    "    \"\"\"\n",
    "    Trains n_iter iterations of word2vec and saves model on each iteration.\n",
    "    \"\"\"\n",
    "    # initialise and save model\n",
    "    model = gensim.models.Word2Vec(gene_pairs, \n",
    "                                   size=dimension,\n",
    "                                   window=W2V_WINDOW_SIZE, \n",
    "                                   min_count=W2V_MIN_COUNT, \n",
    "                                   workers=W2V_NUM_WORKERS, \n",
    "                                   negative=W2V_NEGATIVE,\n",
    "                                   sg=W2V_SG)\n",
    "    print(\"gene2vec model initialised\")\n",
    "    \n",
    "    current_iter = 0\n",
    "    filename = 'dim_{}/iter_{}'.format(dimension, current_iter)\n",
    "    \n",
    "    model.save(GENE2VEC_DIR + filename)\n",
    "    print(\"gene2vec model saved\")\n",
    "    del model \n",
    "    \n",
    "    # train model\n",
    "    for current_iter in range(1,W2V_N_ITER+1):\n",
    "        loadfile = 'dim_{}/iter_{}'.format(dimension, current_iter - 1)\n",
    "        \n",
    "        # shuffle pairs\n",
    "        random.shuffle(gene_pairs)\n",
    "        \n",
    "        # load model and train on shuffled gene pairs\n",
    "        model = gensim.models.Word2Vec.load(GENE2VEC_DIR + filename)\n",
    "        model.train(gene_pairs,total_examples=model.corpus_count,epochs=model.iter)\n",
    "        \n",
    "        # save trained model\n",
    "        savefile = 'dim_{}/iter_{}'.format(dimension, current_iter)\n",
    "        model.save(GENE2VEC_DIR + savefile)\n",
    "        print(\"gene2vec dimension \" + str(dimension) + \" iteration \" + str(current_iter) + \" saved\")\n",
    "        del model\n",
    "        \n",
    "def train_word2vec_gridsearch(gene_pairs):\n",
    "    \"\"\"\n",
    "    Trains a gridsearch (entirety of provided parameter space) of different\n",
    "    word2vec models, and saves in directory tree.\n",
    "    \"\"\"\n",
    "    dims = [16, 32, 64, 128, 256, 512, 1024]\n",
    "    \n",
    "    for dim in dims:\n",
    "        train_word2vec(gene_pairs, dim)"
   ]
  },
  {
   "cell_type": "code",
   "execution_count": null,
   "metadata": {},
   "outputs": [],
   "source": [
    "train_word2vec_gridsearch(list(gene_pairs))"
   ]
  },
  {
   "cell_type": "markdown",
   "metadata": {},
   "source": [
    "#### 4. Visualise embeddings with PCA and tSNE\n",
    "<a id=\"vis\"></a>"
   ]
  },
  {
   "cell_type": "code",
   "execution_count": 87,
   "metadata": {},
   "outputs": [],
   "source": [
    "# load model and train on shuffled gene pairs\n",
    "\n",
    "filename = GENE2VEC_DIR + 'dim_256/iter_9'"
   ]
  },
  {
   "cell_type": "code",
   "execution_count": 88,
   "metadata": {},
   "outputs": [],
   "source": [
    "def load_embeddings(file_name):\n",
    "    model = KeyedVectors.load(file_name)\n",
    "    wordVector = model.wv\n",
    "    vocabulary, wv = zip(*[[word, wordVector[word]] for word, vocab_obj in wordVector.vocab.items()])\n",
    "    \n",
    "    return np.asarray(wv), vocabulary"
   ]
  },
  {
   "cell_type": "code",
   "execution_count": 89,
   "metadata": {},
   "outputs": [
    {
     "data": {
      "text/plain": [
       "(32479, 256)"
      ]
     },
     "execution_count": 89,
     "metadata": {},
     "output_type": "execute_result"
    }
   ],
   "source": [
    "# load test file\n",
    "wv, vocabulary = load_embeddings(filename)\n",
    "\n",
    "# shuffle index of genes\n",
    "indexes = list(range(len(wv)))\n",
    "random.shuffle(indexes)\n",
    "\n",
    "topN = len(wv) # for now select all genes\n",
    "wv.shape\n",
    "rdWV = wv[indexes,:,]\n",
    "rdVB = np.array(vocabulary)[indexes][:topN]"
   ]
  },
  {
   "cell_type": "code",
   "execution_count": 90,
   "metadata": {},
   "outputs": [
    {
     "name": "stdout",
     "output_type": "stream",
     "text": [
      "(32479, 256) (32479, 256) (32479,)\n"
     ]
    }
   ],
   "source": [
    "print(wv.shape, rdWV.shape, rdVB.shape)"
   ]
  },
  {
   "cell_type": "code",
   "execution_count": null,
   "metadata": {},
   "outputs": [],
   "source": [
    "def plot_2d(data, title):\n",
    "    import matplotlib.pyplot as plt\n",
    "    fig = plt.figure(figsize = (8,8))\n",
    "    ax = fig.add_subplot(1,1,1) \n",
    "    ax.set_xlabel('dimension 1', fontsize = 15)\n",
    "    ax.set_ylabel('dimension 2', fontsize = 15)\n",
    "    ax.set_title(title, fontsize = 20)\n",
    "    \n",
    "    ax.scatter(data[:,0], data[:,1], s = 5, alpha=0.5)\n",
    "    ax.grid()\n",
    "\n",
    "# 2 component PCA visualisation\n",
    "pca_2 = PCA(n_components=2)\n",
    "pca_2.fit(rdWV)\n",
    "pca_rdWV_2=pca_2.transform(rdWV)\n",
    "\n",
    "# plot\n",
    "plot_2d(pca_rdWV_2, title='2 Component PCA')"
   ]
  },
  {
   "cell_type": "code",
   "execution_count": null,
   "metadata": {},
   "outputs": [],
   "source": [
    "# 50 component PCA for tSNE\n",
    "pca = PCA(n_components=10)\n",
    "pca.fit(rdWV)\n",
    "pca_rdWV=pca.transform(rdWV)\n",
    "\n",
    "n_iters = [100,500,1000]\n",
    "# n_iters = [100,500,1000,10000,100000]\n",
    "\n",
    "def tsne_worker(n_iter):\n",
    "    \"\"\"\n",
    "    TSNE Worker, will run for CPU or GPU.\n",
    "    \"\"\"\n",
    "    tsne = TSNE(n_components=2, \n",
    "                perplexity=30, \n",
    "                n_iter=n_iter, \n",
    "                learning_rate=200, \n",
    "                n_jobs=8)\n",
    "    \n",
    "    print('n_iter = {0:d} started'.format(n_iter))\n",
    "    data = tsne.fit_transform(pca_rdWV)\n",
    "    print('n_iter = {0:d} finished'.format(n_iter))\n",
    "    return data, n_iter\n",
    "\n",
    "import torch\n",
    "cuda = torch.cuda.is_available()\n",
    "if cuda:\n",
    "    print(\"CUDA available, using GPU TSNE\")\n",
    "    from tsnecuda import TSNE\n",
    "    for n_iter in n_iters:\n",
    "        tsne = TSNE(n_components=2, \n",
    "                perplexity=30, \n",
    "                n_iter=n_iter, \n",
    "                learning_rate=200)\n",
    "        data = tsne.fit_transform(pca_rdWV)\n",
    "        plot_2d(data, '2D tSNE, n_iter={0:d}'.format(n_iter))    \n",
    "else:\n",
    "    print(\"CUDA not available, using multi-core TSNE\")\n",
    "    from MulticoreTSNE import MulticoreTSNE as TSNE\n",
    "    \n",
    "    p = Pool(4)\n",
    "\n",
    "    # generate tsne of different iteration in parallel\n",
    "    results = p.map(tsne_worker, [100, 500])\n",
    "\n",
    "    # plot tSNE\n",
    "    for data, n_iter in results:\n",
    "        plot_2d(data, '2D tSNE, n_iter={0:d}'.format(n_iter))"
   ]
  },
  {
   "cell_type": "markdown",
   "metadata": {},
   "source": [
    "---\n",
    "#### 6. Produce 2D images for every sample\n",
    "<a id=\"2d\"></a>\n",
    "\n",
    "For each sample, now want to encode gene2vec embeddings as a prior on mutation data."
   ]
  },
  {
   "cell_type": "code",
   "execution_count": 128,
   "metadata": {},
   "outputs": [
    {
     "data": {
      "text/plain": [
       "(9539, 450)"
      ]
     },
     "execution_count": 128,
     "metadata": {},
     "output_type": "execute_result"
    },
    {
     "data": {
      "text/plain": [
       "(10106, 2361)"
      ]
     },
     "execution_count": 128,
     "metadata": {},
     "output_type": "execute_result"
    }
   ],
   "source": [
    "df_X1.shape\n",
    "df_X2.shape\n",
    "\n",
    "def convert_to_onehot(df_in):\n",
    "    \"\"\"\n",
    "    Convert count encoding to one-hot encoded representation of df.\n",
    "    \"\"\"\n",
    "    df = df_in.copy()\n",
    "    df[df != 0] = 1\n",
    "    return df\n",
    "\n",
    "def get_gene_intersection(df1, df2):\n",
    "    \"\"\"\n",
    "    Get intersection of genes (features) from df1 and df2.\n",
    "    \"\"\"\n",
    "    gene_intersection = []\n",
    "    for gene in df1:\n",
    "        if gene in df2.columns.tolist():\n",
    "            gene_intersection.append(gene)\n",
    "\n",
    "    return gene_intersection\n",
    "\n",
    "    \n",
    "def embed_gene_vectors(data_df, gene_df):\n",
    "    \"\"\"\n",
    "    Matrix multiply somatic mutation data by gene embeddings and return batch of images.\n",
    "    \"\"\"\n",
    "    samples = []\n",
    "    for i, row in data_df.iterrows():\n",
    "        # multiply gene embedding by bitwise mask taken from sample mutations\n",
    "        embedded_sample = row.values * gene_df.values\n",
    "        samples.append(embedded_sample)\n",
    "    return np.dstack(samples)\n",
    "\n",
    "def apply_spectral_clustering(data_df, onehot_df, num_clusters=25):\n",
    "    \"\"\"\n",
    "    Determine a sorting on genes which creates visual structure.\n",
    "    Calculates feature cooccurrence matrix, finds num_clusters as defined and sorts genes accordingly.\n",
    "    \"\"\"\n",
    "    from sklearn.cluster import SpectralClustering\n",
    "    c_matrix = onehot_df.T.dot(onehot_df) # cooccurrence matrix for genes in data source\n",
    "    sc = SpectralClustering(num_clusters, affinity='precomputed', n_init=100, assign_labels='discretize')\n",
    "    clusters = sc.fit_predict(c_matrix)\n",
    "    return data_df[:,np.argsort(clusters),:]\n",
    "    \n",
    "def visualise_sample(sample):\n",
    "    \"\"\"\n",
    "    Visualise sample as image.\n",
    "    \"\"\"\n",
    "    import matplotlib.pyplot as plt\n",
    "    fig, ax = plt.subplots(figsize=(10, 10))\n",
    "    ax.imshow(pd.DataFrame(sample), aspect='auto')\n",
    "    # plt.colorbar()\n",
    "    \n",
    "def visualise_clusters(data_df, onehot_df, index=5000):\n",
    "    \"\"\"\n",
    "    \n",
    "    \"\"\"\n",
    "    # Initialise plot\n",
    "    fig, axes = plt.subplots(nrows=2, ncols=2, figsize = (18,12))\n",
    "    fig.suptitle('TCGA Sample Number 5000')\n",
    "    \n",
    "    clustered1 = apply_spectral_clustering(data_df[:,:,index:index+1], \n",
    "                                           onehot_df, num_clusters=5)\n",
    "    \n",
    "    clustered2 = apply_spectral_clustering(data_df[:,:,index:index+1], \n",
    "                                           onehot_df, num_clusters=10)\n",
    "    \n",
    "    clustered3 = apply_spectral_clustering(data_df[:,:,index:index+1], \n",
    "                                           onehot_df, num_clusters=20)\n",
    "    \n",
    "    clustered4 = apply_spectral_clustering(data_df[:,:,index:index+1], \n",
    "                                           onehot_df, num_clusters=50)\n",
    "\n",
    "    axes[0,0].imshow(pd.DataFrame(clustered1[:,:,0]), aspect='auto')\n",
    "    axes[0,0].set(title='num_clusters=5')\n",
    "    axes[0,1].imshow(pd.DataFrame(clustered2[:,:,0]), aspect='auto')\n",
    "    axes[0,1].set(title='num_clusters=10')\n",
    "    axes[1,0].imshow(pd.DataFrame(clustered3[:,:,0]), aspect='auto')\n",
    "    axes[1,0].set(title='num_clusters=20')\n",
    "    axes[1,1].imshow(pd.DataFrame(clustered4[:,:,0]), aspect='auto')\n",
    "    axes[1,1].set(title='num_clusters=50')"
   ]
  },
  {
   "cell_type": "code",
   "execution_count": 134,
   "metadata": {},
   "outputs": [
    {
     "data": {
      "text/plain": [
       "(9539, 450)"
      ]
     },
     "execution_count": 134,
     "metadata": {},
     "output_type": "execute_result"
    }
   ],
   "source": [
    "test = convert_to_onehot(df_X1)\n",
    "test.values.shape\n",
    "\n",
    "# load test file\n",
    "wv, vocabulary = load_embeddings(filename)\n",
    "df_genevec = pd.DataFrame(wv.transpose(), columns=vocabulary)\n",
    "\n",
    "genes = get_gene_intersection(test, df_genevec)\n",
    "merge1 = test[genes]\n",
    "merge2 = df_genevec[genes]\n",
    "\n",
    "output = embed_gene_vectors(merge1, merge2)"
   ]
  },
  {
   "cell_type": "code",
   "execution_count": null,
   "metadata": {},
   "outputs": [],
   "source": [
    "freememory()\n",
    "clustered4 = apply_spectral_clustering(output, merge1, num_clusters=20)\n",
    "size(clustered4)\n",
    "visualise_sample(clustered4[:,:,5000])"
   ]
  },
  {
   "cell_type": "code",
   "execution_count": null,
   "metadata": {},
   "outputs": [],
   "source": [
    "visualise_clusters(output, merge1, index=3000)\n",
    "visualise_clusters(output, merge1, index=5000)"
   ]
  },
  {
   "cell_type": "markdown",
   "metadata": {},
   "source": [
    "#### Image labelling and dataset creation"
   ]
  },
  {
   "cell_type": "code",
   "execution_count": null,
   "metadata": {},
   "outputs": [],
   "source": [
    "# Absurdly, necessary image processing functions to create FastAI accepted dataset from 3D Numpy batches of images\n",
    "\n",
    "def create_labels_df(df_y):\n",
    "    \"\"\"    \n",
    "    Create labels df.\n",
    "    \"\"\"\n",
    "    labels_df = (df_y4.copy()\n",
    "                  .reset_index()\n",
    "                  .rename(columns={'case_barcode':'name', 'project_short_name':'label'}))\n",
    "    \n",
    "    return labels_df\n",
    "    \n",
    "\n",
    "def create_labels_csv(labels_df, y_train, y_valid, savedir, img_format='png'):\n",
    "    \"\"\"\n",
    "    Create labels.csv from labels df and knowledge of y_train and y_valid data splits.\n",
    "    \"\"\"\n",
    "    train_labels = labels_df.loc[y_train.index]    \n",
    "    valid_labels = labels_df.loc[y_valid.index]\n",
    "    \n",
    "    def format_name(name, label, split):\n",
    "        return '{}/{}/{}.{}'.format(split, label, name, img_format)\n",
    "    \n",
    "    train_labels['name'] = train_labels.apply(lambda row: format_name(row['name'], row['label'], 'train'), axis=1)\n",
    "    valid_labels['name'] = valid_labels.apply(lambda row: format_name(row['name'], row['label'], 'valid'), axis=1)\n",
    "\n",
    "    pd.concat([train_labels, valid_labels]).to_csv(savedir + 'labels.csv', index=False)\n",
    "\n",
    "\n",
    "def generate_dataset(X, y, data_base='../data/genevec_images/', test_size=0.2):\n",
    "    \"\"\"\n",
    "    Generate image dataset folder structure as per MNIST and other common image datasets.\n",
    "    \"\"\"\n",
    "    \n",
    "    # Create labels df from y\n",
    "    labels_df = create_labels_df(y)\n",
    "    y_ = labels_df['label']\n",
    "    \n",
    "    print('Getting train/test/val split:')\n",
    "    # 80/10/10 train test validation\n",
    "    X_train, X_other, y_train, y_other = train_test_split(X, y_, test_size=test_size, \n",
    "                                                          random_state=42, stratify=y_)\n",
    "    \n",
    "    X_valid, X_test, y_valid, y_test = train_test_split(X_other, y_other, test_size=0.5,\n",
    "                                                        random_state=42, stratify=y_other)\n",
    "    \n",
    "    # Save all data to data directory\n",
    "    data_dir = '{}{}'.format(data_base, time.strftime(\"%Y%m%d-%H%M%S\"))\n",
    "    if not os.path.exists(data_dir):\n",
    "        os.mkdir(data_dir)\n",
    "        \n",
    "    # Create labels.csv from y_train, y_valid\n",
    "    create_labels_csv(labels_df, y_train, y_valid, savedir=data_dir + '/')\n",
    "    \n",
    "    dirs = ('train', 'valid', 'test')\n",
    "    ys = (y_train, y_valid, y_test)\n",
    "    Xs = (X_train, X_valid, X_test)\n",
    "\n",
    "    for i, dir_ in enumerate(dirs):\n",
    "        path = data_dir + '/' + dir_\n",
    "        if not os.path.exists(path):\n",
    "            os.mkdir(path)\n",
    "        if (dir_ == 'test'):\n",
    "            for j, row in enumerate(ys[i]):\n",
    "                image_name = '{}.png'.format(labels_df.loc[ys[i].index[j]]['name'])\n",
    "                img_path = path + '/' + image_name\n",
    "                img.imsave(img_path, Xs[i][j,:,:])\n",
    "        else:\n",
    "            for label in set(ys[i].values):\n",
    "                path_ = path + '/' + label\n",
    "                if not os.path.exists(path_):\n",
    "                    os.mkdir(path_)\n",
    "                for j, row in enumerate(ys[i]):\n",
    "                    if row == label:\n",
    "                        image_name = '{}.png'.format(labels_df.loc[ys[i].index[j]]['name'])\n",
    "                        img_path = path_ + '/' + image_name\n",
    "                        img.imsave(img_path, Xs[i][j,:,:])"
   ]
  },
  {
   "cell_type": "code",
   "execution_count": null,
   "metadata": {},
   "outputs": [],
   "source": [
    "clustered_df = apply_spectral_clustering(output, merge1, num_clusters=20)\n",
    "\n",
    "df_X4 = clustered_df.transpose()\n",
    "df_y4 = df_y1\n",
    "\n",
    "df_X4.shape\n",
    "df_y4.shape\n",
    "\n",
    "generate_dataset(df_X4, df_y4)"
   ]
  },
  {
   "cell_type": "markdown",
   "metadata": {},
   "source": [
    "---\n",
    "##### 7.2 Random Forest on images\n",
    "<a id=\"rf\"></a>"
   ]
  },
  {
   "cell_type": "code",
   "execution_count": 124,
   "metadata": {},
   "outputs": [],
   "source": [
    "models3 = {\n",
    "        'dt' : {\n",
    "            'model' : DecisionTreeClassifier()\n",
    "        },\n",
    "    \n",
    "        'rf' : {\n",
    "            'model' : RandomForestClassifier(n_estimators=10, \n",
    "                                             min_samples_leaf=2,\n",
    "                                             min_samples_split=17, \n",
    "                                             criterion='gini', \n",
    "                                             max_features=8)\n",
    "        },\n",
    "    \n",
    "        'gbt' : { \n",
    "            'model' : GradientBoostingClassifier(n_estimators=20, \n",
    "                                                 min_samples_leaf=2,\n",
    "                                                 min_samples_split=17, \n",
    "                                                 max_features=20)\n",
    "        }\n",
    "    }"
   ]
  },
  {
   "cell_type": "code",
   "execution_count": 133,
   "metadata": {},
   "outputs": [
    {
     "ename": "NameError",
     "evalue": "name 'output' is not defined",
     "output_type": "error",
     "traceback": [
      "\u001b[0;31m---------------------------------------------------------------------------\u001b[0m",
      "\u001b[0;31mNameError\u001b[0m                                 Traceback (most recent call last)",
      "\u001b[0;32m<ipython-input-133-169249a2c108>\u001b[0m in \u001b[0;36m<module>\u001b[0;34m\u001b[0m\n\u001b[1;32m      1\u001b[0m \u001b[0;31m# flatten images to sparse feature vectors\u001b[0m\u001b[0;34m\u001b[0m\u001b[0;34m\u001b[0m\u001b[0;34m\u001b[0m\u001b[0m\n\u001b[0;32m----> 2\u001b[0;31m \u001b[0mimg_flattened\u001b[0m \u001b[0;34m=\u001b[0m \u001b[0moutput\u001b[0m\u001b[0;34m.\u001b[0m\u001b[0mreshape\u001b[0m\u001b[0;34m(\u001b[0m\u001b[0;34m-\u001b[0m\u001b[0;36m1\u001b[0m\u001b[0;34m,\u001b[0m \u001b[0moutput\u001b[0m\u001b[0;34m.\u001b[0m\u001b[0mshape\u001b[0m\u001b[0;34m[\u001b[0m\u001b[0;34m-\u001b[0m\u001b[0;36m1\u001b[0m\u001b[0;34m]\u001b[0m\u001b[0;34m)\u001b[0m\u001b[0;34m\u001b[0m\u001b[0;34m\u001b[0m\u001b[0m\n\u001b[0m\u001b[1;32m      3\u001b[0m \u001b[0mimg_flattened\u001b[0m\u001b[0;34m.\u001b[0m\u001b[0mshape\u001b[0m\u001b[0;34m\u001b[0m\u001b[0;34m\u001b[0m\u001b[0m\n",
      "\u001b[0;31mNameError\u001b[0m: name 'output' is not defined"
     ]
    }
   ],
   "source": [
    "# flatten images to sparse feature vectors\n",
    "img_flattened = output.reshape(-1, output.shape[-1])\n",
    "img_flattened.shape"
   ]
  },
  {
   "cell_type": "code",
   "execution_count": null,
   "metadata": {},
   "outputs": [],
   "source": [
    "df_X3 = img_flattened.transpose()\n",
    "df_y3 = df_y1\n",
    "\n",
    "for name, model in models3.items():\n",
    "    model['train_pred'], model['acc_cv'], model['cv_proba'] = run_model(df_X3, df_y3, model['model'], name, 'df_3')\n",
    "    plot_confusion_matrix(df_y1, \n",
    "                          model['train_pred'], \n",
    "                          classes=df_y1['project_short_name'].value_counts().index.values)"
   ]
  },
  {
   "cell_type": "markdown",
   "metadata": {},
   "source": [
    "##### 7.3 ResNet50 w ImageNet weight initialisation (FastAI)\n",
    "<a id=\"fastai\"></a>"
   ]
  },
  {
   "cell_type": "code",
   "execution_count": null,
   "metadata": {},
   "outputs": [],
   "source": [
    "bs = 32"
   ]
  },
  {
   "cell_type": "code",
   "execution_count": null,
   "metadata": {},
   "outputs": [],
   "source": [
    "data = (ImageList.from_folder('../data/genevec_images/20190522-075618/')\n",
    "        .split_by_folder(train='train', valid='valid')          \n",
    "        .label_from_folder()\n",
    "        .transform(size=512)\n",
    "        .databunch(bs=bs)\n",
    "        .normalize(imagenet_stats))"
   ]
  },
  {
   "cell_type": "code",
   "execution_count": null,
   "metadata": {},
   "outputs": [],
   "source": [
    "data.show_batch(rows=3, figsize=(10,8))"
   ]
  },
  {
   "cell_type": "code",
   "execution_count": null,
   "metadata": {},
   "outputs": [],
   "source": [
    "freememory()"
   ]
  },
  {
   "cell_type": "code",
   "execution_count": null,
   "metadata": {},
   "outputs": [],
   "source": [
    "def freegpu(data, model):\n",
    "    del data\n",
    "    del model\n",
    "    freememory()\n",
    "    torch.cuda.empty_cache()\n",
    "    \n",
    "freegpu(data, learn)"
   ]
  },
  {
   "cell_type": "code",
   "execution_count": null,
   "metadata": {},
   "outputs": [],
   "source": [
    "## To create a ResNET 50 with pretrained weights\n",
    "learn = cnn_learner(data, models.resnet50, metrics=error_rate, callback_fns=ShowGraph)\n",
    "learn.fit_one_cycle(10)\n",
    "learn.save('stage-1-256')"
   ]
  },
  {
   "cell_type": "code",
   "execution_count": null,
   "metadata": {},
   "outputs": [],
   "source": [
    "lr_find(learn)\n",
    "learn.recorder.plot()"
   ]
  },
  {
   "cell_type": "code",
   "execution_count": null,
   "metadata": {},
   "outputs": [],
   "source": [
    "interp = ClassificationInterpretation.from_learner(learn)\n",
    "interp.plot_confusion_matrix(figsize=(20,20), dpi=60)"
   ]
  },
  {
   "cell_type": "code",
   "execution_count": null,
   "metadata": {},
   "outputs": [],
   "source": [
    "learn.unfreeze()\n",
    "learn.fit_one_cycle(10, max_lr=slice(1e-4,1e-2))"
   ]
  },
  {
   "cell_type": "code",
   "execution_count": null,
   "metadata": {},
   "outputs": [],
   "source": [
    "learn.lr_find()\n",
    "learn.recorder.plot()"
   ]
  },
  {
   "cell_type": "code",
   "execution_count": null,
   "metadata": {},
   "outputs": [],
   "source": [
    "interp = ClassificationInterpretation.from_learner(learn)\n",
    "interp.plot_confusion_matrix(figsize=(20,20), dpi=60)"
   ]
  },
  {
   "cell_type": "code",
   "execution_count": null,
   "metadata": {},
   "outputs": [],
   "source": [
    "learn.fit_one_cycle(10, max_lr=slice(1e-5,1e-3))"
   ]
  },
  {
   "cell_type": "markdown",
   "metadata": {},
   "source": [
    "---"
   ]
  },
  {
   "cell_type": "code",
   "execution_count": null,
   "metadata": {},
   "outputs": [],
   "source": [
    "for word in vocabulary:\n",
    "    if '\\n' in word:\n",
    "        print(word)"
   ]
  }
 ],
 "metadata": {
  "kernelspec": {
   "display_name": "Python [conda env:.conda-thesis] *",
   "language": "python",
   "name": "conda-env-.conda-thesis-py"
  },
  "language_info": {
   "codemirror_mode": {
    "name": "ipython",
    "version": 3
   },
   "file_extension": ".py",
   "mimetype": "text/x-python",
   "name": "python",
   "nbconvert_exporter": "python",
   "pygments_lexer": "ipython3",
   "version": "3.6.8"
  }
 },
 "nbformat": 4,
 "nbformat_minor": 2
}

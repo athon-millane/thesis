{
 "cells": [
  {
   "cell_type": "markdown",
   "metadata": {},
   "source": [
    "---\n",
    "#### 5. Load and preprocess somatic mutations from [TCGA in BigQuery]\n",
    "(https://bigquery.cloud.google.com/table/isb-cgc:TCGA_hg38_data_v0.Somatic_Mutation?pli=1)\n",
    "<a id=\"tcga\"></a>\n",
    "\n",
    "- Subset query has already been completed in BQ and saved to Google Cloud Storage"
   ]
  },
  {
   "cell_type": "code",
   "execution_count": 1,
   "metadata": {},
   "outputs": [],
   "source": [
    "from IPython.core.interactiveshell import InteractiveShell\n",
    "InteractiveShell.ast_node_interactivity = \"all\""
   ]
  },
  {
   "cell_type": "code",
   "execution_count": 2,
   "metadata": {},
   "outputs": [],
   "source": [
    "import pandas as pd\n",
    "import matplotlib.pyplot as plt\n",
    "import os; os.chdir(\"..\")\n",
    "from tools.config   import TCGA_MUT,GENE2VEC,FIGURES"
   ]
  },
  {
   "cell_type": "code",
   "execution_count": 3,
   "metadata": {},
   "outputs": [
    {
     "data": {
      "text/html": [
       "<div>\n",
       "<style scoped>\n",
       "    .dataframe tbody tr th:only-of-type {\n",
       "        vertical-align: middle;\n",
       "    }\n",
       "\n",
       "    .dataframe tbody tr th {\n",
       "        vertical-align: top;\n",
       "    }\n",
       "\n",
       "    .dataframe thead th {\n",
       "        text-align: right;\n",
       "    }\n",
       "</style>\n",
       "<table border=\"1\" class=\"dataframe\">\n",
       "  <thead>\n",
       "    <tr style=\"text-align: right;\">\n",
       "      <th></th>\n",
       "      <th>project_short_name</th>\n",
       "      <th>case_barcode</th>\n",
       "      <th>Hugo_Symbol</th>\n",
       "      <th>Start_Position</th>\n",
       "      <th>End_Position</th>\n",
       "      <th>Variant_Classification</th>\n",
       "      <th>Variant_Type</th>\n",
       "      <th>Reference_Allele</th>\n",
       "      <th>Tumor_Seq_Allele1</th>\n",
       "      <th>Tumor_Seq_Allele2</th>\n",
       "      <th>One_Consequence</th>\n",
       "    </tr>\n",
       "  </thead>\n",
       "  <tbody>\n",
       "    <tr>\n",
       "      <th>0</th>\n",
       "      <td>TCGA-OV</td>\n",
       "      <td>TCGA-13-0757</td>\n",
       "      <td>C16orf82</td>\n",
       "      <td>27066866</td>\n",
       "      <td>27066867</td>\n",
       "      <td>RNA</td>\n",
       "      <td>INS</td>\n",
       "      <td>-</td>\n",
       "      <td>-</td>\n",
       "      <td>ATCCAGCTGTGAGT</td>\n",
       "      <td>non_coding_transcript_exon_variant</td>\n",
       "    </tr>\n",
       "    <tr>\n",
       "      <th>1</th>\n",
       "      <td>TCGA-OV</td>\n",
       "      <td>TCGA-13-1477</td>\n",
       "      <td>TUBB7P</td>\n",
       "      <td>189982710</td>\n",
       "      <td>189982711</td>\n",
       "      <td>RNA</td>\n",
       "      <td>INS</td>\n",
       "      <td>-</td>\n",
       "      <td>-</td>\n",
       "      <td>GCCTCAGTGAATTCCATCTCATCCATGCCCTCGCC</td>\n",
       "      <td>non_coding_transcript_exon_variant</td>\n",
       "    </tr>\n",
       "    <tr>\n",
       "      <th>2</th>\n",
       "      <td>TCGA-OV</td>\n",
       "      <td>TCGA-13-1500</td>\n",
       "      <td>PABPC1P2</td>\n",
       "      <td>146587959</td>\n",
       "      <td>146587960</td>\n",
       "      <td>RNA</td>\n",
       "      <td>INS</td>\n",
       "      <td>-</td>\n",
       "      <td>-</td>\n",
       "      <td>ACCAA</td>\n",
       "      <td>non_coding_transcript_exon_variant</td>\n",
       "    </tr>\n",
       "    <tr>\n",
       "      <th>3</th>\n",
       "      <td>TCGA-LUSC</td>\n",
       "      <td>TCGA-22-4591</td>\n",
       "      <td>HNRNPKP3</td>\n",
       "      <td>43263117</td>\n",
       "      <td>43263118</td>\n",
       "      <td>RNA</td>\n",
       "      <td>INS</td>\n",
       "      <td>-</td>\n",
       "      <td>-</td>\n",
       "      <td>AGAGG</td>\n",
       "      <td>non_coding_transcript_exon_variant</td>\n",
       "    </tr>\n",
       "    <tr>\n",
       "      <th>4</th>\n",
       "      <td>TCGA-OV</td>\n",
       "      <td>TCGA-36-2545</td>\n",
       "      <td>CTC-231O11.1</td>\n",
       "      <td>160485632</td>\n",
       "      <td>160485633</td>\n",
       "      <td>RNA</td>\n",
       "      <td>INS</td>\n",
       "      <td>-</td>\n",
       "      <td>-</td>\n",
       "      <td>ACC</td>\n",
       "      <td>non_coding_transcript_exon_variant</td>\n",
       "    </tr>\n",
       "  </tbody>\n",
       "</table>\n",
       "</div>"
      ],
      "text/plain": [
       "  project_short_name  case_barcode   Hugo_Symbol  Start_Position  \\\n",
       "0            TCGA-OV  TCGA-13-0757      C16orf82        27066866   \n",
       "1            TCGA-OV  TCGA-13-1477        TUBB7P       189982710   \n",
       "2            TCGA-OV  TCGA-13-1500      PABPC1P2       146587959   \n",
       "3          TCGA-LUSC  TCGA-22-4591      HNRNPKP3        43263117   \n",
       "4            TCGA-OV  TCGA-36-2545  CTC-231O11.1       160485632   \n",
       "\n",
       "   End_Position Variant_Classification Variant_Type Reference_Allele  \\\n",
       "0      27066867                    RNA          INS                -   \n",
       "1     189982711                    RNA          INS                -   \n",
       "2     146587960                    RNA          INS                -   \n",
       "3      43263118                    RNA          INS                -   \n",
       "4     160485633                    RNA          INS                -   \n",
       "\n",
       "  Tumor_Seq_Allele1                    Tumor_Seq_Allele2  \\\n",
       "0                 -                       ATCCAGCTGTGAGT   \n",
       "1                 -  GCCTCAGTGAATTCCATCTCATCCATGCCCTCGCC   \n",
       "2                 -                                ACCAA   \n",
       "3                 -                                AGAGG   \n",
       "4                 -                                  ACC   \n",
       "\n",
       "                      One_Consequence  \n",
       "0  non_coding_transcript_exon_variant  \n",
       "1  non_coding_transcript_exon_variant  \n",
       "2  non_coding_transcript_exon_variant  \n",
       "3  non_coding_transcript_exon_variant  \n",
       "4  non_coding_transcript_exon_variant  "
      ]
     },
     "execution_count": 3,
     "metadata": {},
     "output_type": "execute_result"
    }
   ],
   "source": [
    "tcga_raw = pd.read_csv(TCGA_MUT)\n",
    "tcga_raw.head()"
   ]
  },
  {
   "cell_type": "code",
   "execution_count": 4,
   "metadata": {},
   "outputs": [
    {
     "data": {
      "text/plain": [
       "Text(0.5, 1.0, 'Distribution of Mutation Indices by Occurrence')"
      ]
     },
     "execution_count": 4,
     "metadata": {},
     "output_type": "execute_result"
    },
    {
     "data": {
      "text/plain": [
       "Text(0.5, 0, 'Mutation Index Co-occurrence')"
      ]
     },
     "execution_count": 4,
     "metadata": {},
     "output_type": "execute_result"
    },
    {
     "data": {
      "image/png": "[encoded data removed]",
      "text/plain": [
       "<Figure size 864x576 with 1 Axes>"
      ]
     },
     "metadata": {
      "needs_background": "light"
     },
     "output_type": "display_data"
    }
   ],
   "source": [
    "fig = plt.figure(figsize=(12,8)); title = 'Distribution of Mutation Indices by Occurrence'\n",
    "ax = tcga_raw['Start_Position'].value_counts().plot(kind='hist', log=True,bins=20)\n",
    "ax.set_title(title); ax.set_xlabel('Mutation Index Co-occurrence')\n",
    "fig.savefig(FIGURES / title.lower().replace(' ','_'), dpi=fig.dpi, bbox_inches='tight', pad_inches=0.5)"
   ]
  },
  {
   "cell_type": "code",
   "execution_count": 5,
   "metadata": {},
   "outputs": [
    {
     "data": {
      "image/png": "[encoded data removed]",
      "text/plain": [
       "<Figure size 1440x720 with 4 Axes>"
      ]
     },
     "metadata": {
      "needs_background": "light"
     },
     "output_type": "display_data"
    }
   ],
   "source": [
    "def visualise_distributions(df, title, savefig=True):\n",
    "    \"\"\"\n",
    "    Plot distribution and frequency of features of interest for raw and processed TCGA df.\n",
    "    \"\"\"\n",
    "    import matplotlib.pyplot as plt\n",
    "    fig, axes = plt.subplots(nrows=2, ncols=2, figsize = (20,10))\n",
    "    fig.suptitle(title)\n",
    "    plt.subplots_adjust(hspace=0.6)\n",
    "    \n",
    "    df.groupby('case_barcode').head(1)['project_short_name'].value_counts() \\\n",
    "        .plot(kind='bar', title='Cases per Cancer type', ax=axes[0,0])\n",
    "    \n",
    "    df['Variant_Classification'] \\\n",
    "        .value_counts().plot(kind='bar', title='Variants per variant type', ax=axes[1,0], logy=True)\n",
    "    \n",
    "    df['case_barcode'].value_counts() \\\n",
    "        .plot(title='Log Variants per case, {0:d} cases'\n",
    "              .format(df['case_barcode'].value_counts().shape[0]), \n",
    "              ax=axes[0, 1],  logy=True)\n",
    "\n",
    "    df['Hugo_Symbol'].value_counts() \\\n",
    "        .plot(title='Log Variants per gene, {0:d} genes'\n",
    "              .format(df['Hugo_Symbol'].value_counts().shape[0]), \n",
    "              ax=axes[1, 1], logy=True)\n",
    "    \n",
    "    if savefig:\n",
    "        fig.savefig(FIGURES/title.lower().replace(' ','_'), dpi=fig.dpi, bbox_inches='tight', pad_inches=0.5)\n",
    "    \n",
    "visualise_distributions(tcga_raw, 'Raw TCGA Data')"
   ]
  },
  {
   "cell_type": "markdown",
   "metadata": {},
   "source": [
    "In absence of MutSigCV results use list of 459 driver genes from [Intogen](https://www.intogen.org/search)"
   ]
  },
  {
   "cell_type": "code",
   "execution_count": 9,
   "metadata": {},
   "outputs": [],
   "source": [
    "def drop_low_mut_count(df, feature, cutoff=100):\n",
    "    \"\"\"\n",
    "    Drop rows which contain features which occur less than cutoff times in the dataset.\n",
    "    \"\"\"\n",
    "    subsample = df[feature].value_counts()[(df[feature].value_counts() > cutoff)].index.tolist()\n",
    "    return df[df[feature].isin(subsample)]\n",
    "\n",
    "def merge_label(df, label1, label2, merged_label):\n",
    "    \"\"\"\n",
    "    Merge label1 and label2 into merged label within dataframe.\n",
    "    \"\"\"\n",
    "    df.loc[(df['project_short_name'] == label1) | \n",
    "           (df['project_short_name'] == label2), 'project_short_name'] = merged_label\n",
    "    return df\n",
    "\n",
    "def process_labels(df):\n",
    "    \"\"\"\n",
    "    Merge cancers that are established clinically to be the same.\n",
    "    \"\"\"\n",
    "    # Colon and Rectal cancers are now considered the same cancer\n",
    "    # COAD, READ -> COADREAD\n",
    "    df = merge_label(df, 'TCGA-COAD', 'TCGA-READ', 'MERGE-COADREAD')\n",
    "    \n",
    "    # GBM and LGG are both forms of brain Glioma\n",
    "    # GBM, LGG   -> GBMLGG\n",
    "    df = merge_label(df, 'TCGA-GBM', 'TCGA-LGG', 'MERGE-GBMLGG')\n",
    "    \n",
    "    # Stomach and Esophegal cancers are also considered the same\n",
    "    # ESCA, STAD -> STES\n",
    "    df = merge_label(df, 'TCGA-ESCA', 'TCGA-STAD', 'MERGE-STES')\n",
    "    \n",
    "    return df\n",
    "\n",
    "def filter_intogen_drivers(df):\n",
    "    \"\"\"\n",
    "    Filter only genes that intersect with listed drivers from Intogen.\n",
    "    \"\"\"\n",
    "    intogen_drivers = pd.read_csv(INTOGEN, sep='\\t')\n",
    "    driver_genes = intogen_drivers['SYMBOL'].tolist()\n",
    "    return df[df['Hugo_Symbol'].isin(driver_genes)]\n",
    "\n",
    "def filter_variants(df):\n",
    "    \"\"\"\n",
    "    Filter out variants according to a list provided by Dr Nic Waddel (QIMR).\n",
    "    \"\"\"\n",
    "    \n",
    "    waddell_list = ['missense_variant',\n",
    "                    'stop_gained',\n",
    "                    'frameshift_variant',\n",
    "                    'splice_acceptor_variant',\n",
    "                    'splice_donor_variant',\n",
    "                    'start_lost',\n",
    "                    'inframe_deletion',\n",
    "                    'inframe_insertion',\n",
    "                    'stop_lost']\n",
    "    \n",
    "    return df[df['One_Consequence'].isin(waddell_list)]"
   ]
  },
  {
   "cell_type": "markdown",
   "metadata": {},
   "source": [
    "---"
   ]
  },
  {
   "cell_type": "code",
   "execution_count": 10,
   "metadata": {},
   "outputs": [
    {
     "ename": "NameError",
     "evalue": "name 'dedup_and_get_variant_count' is not defined",
     "output_type": "error",
     "traceback": [
      "\u001b[0;31m---------------------------------------------------------------------------\u001b[0m",
      "\u001b[0;31mNameError\u001b[0m                                 Traceback (most recent call last)",
      "\u001b[0;32m<ipython-input-10-fd8d1203e457>\u001b[0m in \u001b[0;36m<module>\u001b[0;34m\u001b[0m\n\u001b[1;32m      2\u001b[0m                    .pipe(filter_variants))\n\u001b[1;32m      3\u001b[0m \u001b[0;34m\u001b[0m\u001b[0m\n\u001b[0;32m----> 4\u001b[0;31m X_test  = (df_test.pipe(dedup_and_get_variant_count)\n\u001b[0m\u001b[1;32m      5\u001b[0m                     .pipe(reshape_pivot))\n\u001b[1;32m      6\u001b[0m \u001b[0;34m\u001b[0m\u001b[0m\n",
      "\u001b[0;31mNameError\u001b[0m: name 'dedup_and_get_variant_count' is not defined"
     ]
    }
   ],
   "source": [
    "df_test = (tcga_raw.pipe(process_labels)\n",
    "                   .pipe(filter_variants))\n",
    "\n",
    "X_test  = (df_test.pipe(dedup_and_get_variant_count)\n",
    "                    .pipe(reshape_pivot))\n",
    "        \n",
    "y_test  = (df_test.pipe(get_label_df, X_test))"
   ]
  },
  {
   "cell_type": "code",
   "execution_count": null,
   "metadata": {},
   "outputs": [],
   "source": [
    "X_test.shape, y_test.values.flatten().shape"
   ]
  },
  {
   "cell_type": "code",
   "execution_count": null,
   "metadata": {},
   "outputs": [],
   "source": [
    "# sklearn\n",
    "import sklearn.ensemble as ske\n",
    "from sklearn import datasets, model_selection, tree, preprocessing, metrics, linear_model\n",
    "from sklearn.svm import LinearSVC\n",
    "from sklearn.ensemble import RandomForestClassifier, GradientBoostingClassifier \n",
    "from sklearn.calibration import CalibratedClassifierCV\n",
    "from sklearn.neighbors import KNeighborsClassifier\n",
    "from sklearn.naive_bayes import GaussianNB\n",
    "from sklearn.linear_model import LinearRegression, LogisticRegression, Ridge, Lasso, SGDClassifier\n",
    "from sklearn.tree import DecisionTreeClassifier\n",
    "from sklearn.metrics import confusion_matrix\n",
    "from sklearn.utils.multiclass import unique_labels\n",
    "\n",
    "import matplotlib.pyplot as plt; import numpy as np\n",
    "\n",
    "def plot_confusion_matrix(y_true, y_pred, classes,\n",
    "                          name=None,\n",
    "                          cmap='viridis',\n",
    "                          savefig=True):\n",
    "    \"\"\"\n",
    "    This function prints and plots the confusion matrix.\n",
    "    Normalization can be applied by setting `normalize=True`.\n",
    "    \"\"\"\n",
    "            \n",
    "    title = 'Confusion Matrices'\n",
    "\n",
    "    # Compute confusion matrices\n",
    "    cm = confusion_matrix(y_true, y_pred, labels=classes)\n",
    "    cm_norm = cm.astype('float') / cm.sum(axis=1)[:, np.newaxis]\n",
    "            \n",
    "    # Initialise plot\n",
    "    fig, axes = plt.subplots(ncols=2, figsize = (20,11))\n",
    "    fig.suptitle(title)\n",
    "    plt.subplots_adjust(hspace=0.6)\n",
    "\n",
    "    for i, ax in enumerate(axes):\n",
    "        if i == 1:\n",
    "            normalise = True\n",
    "            data = cm_norm\n",
    "            title = 'Normalised'\n",
    "        else:\n",
    "            normalise = False\n",
    "            data = cm\n",
    "            title = 'Non-Normalised'\n",
    "            \n",
    "        ax.imshow(data, interpolation='nearest')\n",
    "        \n",
    "#         ax.figure.colorbar()\n",
    "        # We want to show all ticks...\n",
    "        ax.set(xticks=np.arange(data.shape[1]),\n",
    "               yticks=np.arange(data.shape[0]),\n",
    "               # ... and label them with the respective list entries\n",
    "               xticklabels=classes, yticklabels=classes,\n",
    "               title=title,\n",
    "               ylabel='True label',\n",
    "               xlabel='Predicted label')\n",
    "\n",
    "        # Rotate the tick labels and set their alignment.\n",
    "        plt.setp(ax.get_xticklabels(), rotation=45, ha=\"right\", rotation_mode=\"anchor\")\n",
    "\n",
    "        # Loop over data dimensions and create text annotations.\n",
    "        fmt = '.1f' if normalise else 'd'\n",
    "        thresh = data.max() / 2.\n",
    "        for i in range(data.shape[0]):\n",
    "            for j in range(data.shape[1]):\n",
    "                ax.text(j, i, format(data[i, j], fmt),\n",
    "                        ha=\"center\", va=\"center\",\n",
    "                        color=\"white\" if data[i, j] < thresh else \"black\")\n",
    "            \n",
    "    fig.tight_layout()\n",
    "    plt.show()\n",
    "    \n",
    "\n",
    "def run_model(X_train, y_train, model, model_name, data_name, cv=10):\n",
    "    start_time = time.time()\n",
    "    train_pred, acc_cv, cv_proba = fit_ml_algo(model, \n",
    "                                             X_train, \n",
    "                                             y_train, \n",
    "                                             cv)\n",
    "    gbt_time = (time.time() - start_time)\n",
    "    \n",
    "    print(\"Model: %s, DataFrame: %s\" % (model_name, data_name))\n",
    "    print(\"Accuracy CV 10-Fold: %s\" % acc_cv)\n",
    "    print(\"Running Time: %s\" % datetime.timedelta(seconds=gbt_time))\n",
    "    \n",
    "    print(metrics.classification_report(y_train, train_pred))\n",
    "    return train_pred, acc_cv, cv_proba\n",
    "\n",
    "\n",
    "# Function that runs the requested algorithm and returns the accuracy metrics\n",
    "def fit_ml_algo(algo, X_train, y_train, cv):\n",
    "    # CV \n",
    "    train_pred = model_selection.cross_val_predict(algo, \n",
    "                                                  X_train, \n",
    "                                                  y_train, \n",
    "                                                  cv=cv, \n",
    "                                                  n_jobs = -1)\n",
    "    \n",
    "    cv_proba = model_selection.cross_val_predict(algo, \n",
    "                                                  X_train, \n",
    "                                                  y_train, \n",
    "                                                  cv=cv, \n",
    "                                                  method='predict_proba',\n",
    "                                                  n_jobs=-1)\n",
    "    \n",
    "    acc_cv = round(metrics.accuracy_score(y_train, train_pred) * 100, 2)\n",
    "    return train_pred, acc_cv, cv_proba"
   ]
  },
  {
   "cell_type": "code",
   "execution_count": null,
   "metadata": {},
   "outputs": [],
   "source": [
    "import time; import datetime\n",
    "model = {\n",
    "            'model' : RandomForestClassifier(n_estimators=200, \n",
    "                                             min_samples_leaf=2,\n",
    "                                             min_samples_split=17, \n",
    "                                             criterion='gini', \n",
    "                                             max_features=40)\n",
    "        }\n",
    "\n",
    "model['train_pred'], model['acc_cv'], model['cv_proba'] = run_model(X_test, y_test.values.flatten(), model['model'], 'rf', 'df_1')\n",
    "\n",
    "plot_confusion_matrix(y_test, \n",
    "                      model['train_pred'], \n",
    "                      classes=y_test['project_short_name'].value_counts().index.values,\n",
    "                      name='rf')"
   ]
  },
  {
   "cell_type": "markdown",
   "metadata": {},
   "source": [
    "---"
   ]
  },
  {
   "cell_type": "code",
   "execution_count": null,
   "metadata": {},
   "outputs": [],
   "source": [
    "# empirical dim reduction\n",
    "df_proc1 = (tcga_raw.pipe(process_labels)\n",
    "                    .pipe(filter_variants)\n",
    "                    .pipe(filter_intogen_drivers))\n",
    "\n",
    "# statistical dim reductions\n",
    "df_proc2 = (tcga_raw.pipe(process_labels)\n",
    "                    .pipe(filter_variants)\n",
    "                    .pipe(drop_low_mut_count, 'Hugo_Symbol', 200))     # naïvely remove very genes with few mutations as noise\n",
    "\n",
    "visualise_distributions(df_proc1, 'Empirical Dim Reduction')\n",
    "visualise_distributions(df_proc2, 'Statistical Dim Reduction')"
   ]
  },
  {
   "cell_type": "code",
   "execution_count": null,
   "metadata": {},
   "outputs": [],
   "source": [
    "def dedup_and_get_variant_count(df_in):\n",
    "    \"\"\"\n",
    "    Deduplicate gene sample combinations with >1 mutations and aggregate \n",
    "    with additional feature of variant count for gene sample combination.\n",
    "    \"\"\"\n",
    "    df = df_in.copy()\n",
    "    \n",
    "    counts = df.groupby('case_barcode')['Hugo_Symbol'].value_counts()\n",
    "    df = df.drop_duplicates(subset=['case_barcode', 'Hugo_Symbol'])\n",
    "    df = df.set_index(['case_barcode', 'Hugo_Symbol'])\n",
    "    df['mutation_count'] = counts\n",
    "    df = df.reset_index()\n",
    "    \n",
    "    return df\n",
    "\n",
    "def reshape_pivot(df_in):\n",
    "    \"\"\"\n",
    "    Reduce df to crucial subset then pivot on cases and genes.\n",
    "    \"\"\"\n",
    "    df = (df_in[['case_barcode', 'Hugo_Symbol', 'mutation_count']]\n",
    "              .copy()\n",
    "              .pivot(index='case_barcode', columns='Hugo_Symbol', values='mutation_count')\n",
    "              .fillna(0)\n",
    "              .astype(int))\n",
    "    \n",
    "    return df\n",
    "\n",
    "def get_label_df(df_in, df_X):\n",
    "    \"\"\"\n",
    "    Get label df from flat processed df.\n",
    "    \"\"\"\n",
    "    df_y = (df_in.loc[df_in['case_barcode'].isin(df_X.index)]\n",
    "                 .groupby('case_barcode')\n",
    "                 .head(1)\n",
    "                 .set_index('case_barcode')[['project_short_name']]\n",
    "                 .sort_index())\n",
    "    return df_y"
   ]
  },
  {
   "cell_type": "code",
   "execution_count": null,
   "metadata": {},
   "outputs": [],
   "source": [
    "# Get processed dataframes ready for training\n",
    "df_X1 = (df_proc1.pipe(dedup_and_get_variant_count)\n",
    "                 .pipe(reshape_pivot))\n",
    "\n",
    "df_X2 = (df_proc2.pipe(dedup_and_get_variant_count)\n",
    "                 .pipe(reshape_pivot))\n",
    "\n",
    "df_y1 = (df_proc1.pipe(get_label_df, df_X1))\n",
    "df_y2 = (df_proc2.pipe(get_label_df, df_X2))"
   ]
  },
  {
   "cell_type": "code",
   "execution_count": null,
   "metadata": {},
   "outputs": [],
   "source": [
    "df_X1.head()\n",
    "df_X2.head()\n",
    "df_y1.head()\n",
    "df_y2.head()"
   ]
  },
  {
   "cell_type": "code",
   "execution_count": null,
   "metadata": {},
   "outputs": [],
   "source": [
    "df_X1.shape\n",
    "df_y1.shape"
   ]
  }
 ],
 "metadata": {
  "kernelspec": {
   "display_name": "Python [conda env:.conda-thesis] *",
   "language": "python",
   "name": "conda-env-.conda-thesis-py"
  },
  "language_info": {
   "codemirror_mode": {
    "name": "ipython",
    "version": 3
   },
   "file_extension": ".py",
   "mimetype": "text/x-python",
   "name": "python",
   "nbconvert_exporter": "python",
   "pygments_lexer": "ipython3",
   "version": "3.6.8"
  }
 },
 "nbformat": 4,
 "nbformat_minor": 2
}

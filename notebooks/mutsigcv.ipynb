{
 "cells": [
  {
   "cell_type": "code",
   "execution_count": null,
   "metadata": {},
   "outputs": [],
   "source": [
    "import gp"
   ]
  },
  {
   "cell_type": "code",
   "execution_count": null,
   "metadata": {},
   "outputs": [],
   "source": [
    "# Environment variables\n",
    "DATA_DIR = '../data/mutsigcv/LUSC.maf/'"
   ]
  },
  {
   "cell_type": "code",
   "execution_count": null,
   "metadata": {},
   "outputs": [],
   "source": [
    "# Create a GenePattern server proxy instance\n",
    "gpserver = gp.GPServer('https://cloud.genepattern.org/gp','athon','v6giHMa87v6XbWB')\n",
    "\n",
    "# Obtaining GPTask by module name\n",
    "msigcv = gp.GPTask(gpserver, \"MutSigCV\")\n",
    "\n",
    "# Load the full parameter data\n",
    "msigcv.param_load()"
   ]
  },
  {
   "cell_type": "code",
   "execution_count": null,
   "metadata": {},
   "outputs": [],
   "source": [
    "# Get the list of tasks\n",
    "task_list = gpserver.get_task_list()\n",
    "for task in task_list:\n",
    "    print(task.get_name())"
   ]
  },
  {
   "cell_type": "code",
   "execution_count": null,
   "metadata": {
    "collapsed": true
   },
   "outputs": [],
   "source": [
    "def get_details(module):\n",
    "    # Print the module name\n",
    "    print( module.get_name() )\n",
    "\n",
    "    # Print the module LSID\n",
    "    print( module.get_lsid() )\n",
    "\n",
    "    # Print the module version\n",
    "    print( module.get_version() )\n",
    "\n",
    "    # Print the description\n",
    "    print( module.get_description() )\n",
    "    \n",
    "get_details(msigcv)"
   ]
  },
  {
   "cell_type": "code",
   "execution_count": null,
   "metadata": {
    "collapsed": true
   },
   "outputs": [],
   "source": [
    "def iterate_params(module):\n",
    "    for param in module.get_parameters():  # Loop through each parameter\n",
    "        print( param.get_name() )          # Print the parameter's name\n",
    "        print( param.get_type() )          # Print the parameter's type (text, number, file, etc.)\n",
    "        print( param.get_description() )   # Print the parameter's description\n",
    "        print( param.get_default_value() ) # Print the parameter's default value\n",
    "        print( param.is_optional() )       # Print whether the parameter is optional\n",
    "        print( '' )                        # Leave a blank line between printed parameters\n",
    "        \n",
    "iterate_params(msigcv)"
   ]
  },
  {
   "cell_type": "code",
   "execution_count": null,
   "metadata": {},
   "outputs": [],
   "source": [
    "def get_test_data():\n",
    "    import urllib.request\n",
    "    import zipfile\n",
    "    \n",
    "    testfile = \"http://software.broadinstitute.org/cancer/cga/sites/default/files/data/tools/mutsig/LUSC.MutSigCV.input.data.v1.0.zip\"\n",
    "    urllib.request.urlretrieve(testfile, \"LUSC.zip\")\n",
    "    \n",
    "    zip_ref = zipfile.ZipFile(\"LUSC.zip\", 'r')\n",
    "    zip_ref.extractall(\"LUSC.maf\")\n",
    "    zip_ref.close()"
   ]
  },
  {
   "cell_type": "code",
   "execution_count": null,
   "metadata": {},
   "outputs": [],
   "source": [
    "# Create the GPJobSpec\n",
    "job_spec = module.make_job_spec()\n",
    "\n",
    "# Loop through all the parameters and set their default values\n",
    "for param in module.get_parameters():  \n",
    "    # If the parameter has a default value, set that value\n",
    "    if param.get_default_value() != None: \n",
    "        # Set the default value\n",
    "        job_spec.set_parameter( param.get_name(), param.get_default_value() )  \n",
    "\n",
    "def upload_and_set(file_name, file_path, parameter):\n",
    "    \"\"\"\n",
    "    Upload file to gpserver and set as parameter.\n",
    "    \"\"\"\n",
    "    \n",
    "    # Upload the input file\n",
    "    uploaded_file = gpserver.upload_file(\"file_name\", \"/path/to/the/file/on/the/file/system/file_name\")  \n",
    "    \n",
    "    # Attach the input file to the correct parameter\n",
    "    job_spec.set_parameter(parameter, 'uploaded_file.get_url()')  \n",
    "\n",
    "    \n",
    "\n",
    "# set coverage table file\n",
    "job_spec.set_parameter(\"coverage.table.file\", \n",
    "                       \"shared_data/example_files/MutSigCV_1.3/exome_full192.coverage.txt\"\n",
    "        \n",
    "# set output filename\n",
    "job_spec.set_parameter(\"output.filename.base\", 'LUSC_msigcv')  \n",
    "        \n",
    "\n",
    "# Attach the input file to the correct parameter\n",
    "job_spec.set_parameter(\"input.filename\", \n",
    "                       \"http://software.broadinstitute.org/cancer/cga/sites/default/files/data/tools/mutsig/LUSC.MutSigCV.input.data.v1.0.zip\")\n",
    "\n",
    "\n",
    "        \n",
    "\n",
    "\n"
   ]
  },
  {
   "cell_type": "code",
   "execution_count": null,
   "metadata": {},
   "outputs": [],
   "source": [
    "job_spec.params"
   ]
  },
  {
   "cell_type": "code",
   "execution_count": null,
   "metadata": {},
   "outputs": [],
   "source": [
    "# This will return the job object and continue execution even if the job isn't finished\n",
    "job = gpserver.run_job(job_spec, False)"
   ]
  },
  {
   "cell_type": "markdown",
   "metadata": {},
   "source": [
    "Some parameters come with a list of valid choices. These parameters can be identified by calling the is_choice_param() method. Additionally, choice parameters have a number of other methods available for working with the choice list. Calling these methods on a non-choice parameter will result in an error being thrown. An example is given below."
   ]
  },
  {
   "cell_type": "code",
   "execution_count": null,
   "metadata": {
    "collapsed": true
   },
   "outputs": [],
   "source": [
    "# Loop through each parameter\n",
    "for param in params_list:\n",
    "    if param.is_choice_param():        # If the parameter is a choice param\n",
    "        print( param.get_name() )      # Print the parameter's name\n",
    "        \n",
    "        choices = param.get_choices()  # Get a list of valid choices \n",
    "        for choice in choices:         # Print the label and value for each choice\n",
    "            print( choice['label'] + \" = \" + choice['value'] )\n",
    "            \n",
    "        # Print the default selected value for each choice\n",
    "        print( param.get_choice_selected_value() )"
   ]
  },
  {
   "cell_type": "markdown",
   "metadata": {},
   "source": [
    "## Creating a Job Specification\n",
    "\n",
    "In order to run a GenePattern job from Python, you must first obtain a GPJobSpec object from the correct GPTask object and then set the appropriate parameters for the job. For many parameters their default values will suffice. For others, you will want to set a specific value.\n",
    "\n",
    "Below is code showing how to obtain a GPJobSpec object and how iterate over the parameters, setting them to their default values."
   ]
  },
  {
   "cell_type": "code",
   "execution_count": null,
   "metadata": {
    "collapsed": true
   },
   "outputs": [],
   "source": []
  },
  {
   "cell_type": "markdown",
   "metadata": {},
   "source": [
    "To set a specific value for a parameter, the set_parameter() method should be called. In the code below you will set the *input.filename* parameter to point to a publicly available dataset. This data should suffice for the purposes of this tutorial."
   ]
  },
  {
   "cell_type": "code",
   "execution_count": null,
   "metadata": {
    "collapsed": true
   },
   "outputs": [],
   "source": [
    "# Attach the input file to the correct parameter\n",
    "job_spec.set_parameter(\"input.filename\", \n",
    "                       \"https://software.broadinstitute.org/cancer/software/genepattern/data/all_aml/all_aml_test.gct\")\n",
    "\n",
    "\"http://software.broadinstitute.org/cancer/cga/sites/default/files/data/tools/mutsig/LUSC.MutSigCV.input.data.v1.0.zip\""
   ]
  },
  {
   "cell_type": "markdown",
   "metadata": {},
   "source": [
    "Data files can be uploaded by calling GPServer.upload_file(). This will return a GPFile object, and the parameter can be set to point to the URL of this object. An example for the PreprocessDataset module is shown below. The code has been commented out, however, as it will not be used in this tutorial."
   ]
  },
  {
   "cell_type": "code",
   "execution_count": null,
   "metadata": {
    "collapsed": true
   },
   "outputs": [],
   "source": []
  },
  {
   "cell_type": "markdown",
   "metadata": {},
   "source": [
    "## Submitting Your First Job\n",
    "\n",
    "Once the GPJobSpec is ready, it can be used to launch a GenePattern job. This will return a GPJob object, representing the specific job that was just launched. A code example of how to do this is below."
   ]
  },
  {
   "cell_type": "code",
   "execution_count": null,
   "metadata": {
    "collapsed": true
   },
   "outputs": [],
   "source": []
  },
  {
   "cell_type": "markdown",
   "metadata": {},
   "source": [
    "Why are we passing *False* in as a parameter, you ask? By default the run_job() method will halt code execution of your Python script until the job has finished running in GenePattern. For long running jobs, however, this may not be desirable. By optionally passing in False as a parameter, the method will return as soon as the job is submitted, allowing the Python program to continue.\n",
    "\n",
    "For the purposes of this tutorial, it is better than you do not have to wait. If you did want to submit the job and wait for it to complete, however, the code is below (albeit commented out)."
   ]
  },
  {
   "cell_type": "code",
   "execution_count": null,
   "metadata": {
    "collapsed": true
   },
   "outputs": [],
   "source": [
    "#  This will halt execution until the job is complete\n",
    "# job = gpserver.run_job(job_spec)"
   ]
  },
  {
   "cell_type": "markdown",
   "metadata": {},
   "source": [
    "### Querying for Job Status\n",
    "\n",
    "When a GenePattern job is submitted, it passes through several states: pending, running and then either to complete or error. At any time after a job has been submitted, its status can be checked by calling get_status_message(). Similarly, its completion can be checked by calling is_finished(). Examples of both are shown below."
   ]
  },
  {
   "cell_type": "code",
   "execution_count": null,
   "metadata": {
    "collapsed": true
   },
   "outputs": [],
   "source": [
    "# Prints a brief description of the job's current state\n",
    "print( job.get_status_message() )\n",
    "\n",
    "# Quaries the server and returns True if the job is complete, False otherwise\n",
    "print( job.is_finished() )"
   ]
  },
  {
   "cell_type": "markdown",
   "metadata": {},
   "source": [
    "Finally, if at any point you decide that you just want to wait until the job is complete, you can always call wait_until_done()."
   ]
  },
  {
   "cell_type": "code",
   "execution_count": null,
   "metadata": {
    "collapsed": true
   },
   "outputs": [],
   "source": [
    "job.wait_until_done()"
   ]
  },
  {
   "cell_type": "markdown",
   "metadata": {},
   "source": [
    "## Working with Output Files\n",
    "\n",
    "Finally, once the job is complete and assuming there were no errors, a list of its output files may be obtained by making the get_output_files() call shown below. \n",
    "\n",
    "This will return a list of GPFile objects, each containing methods to download or read the contents of the file."
   ]
  },
  {
   "cell_type": "code",
   "execution_count": null,
   "metadata": {
    "collapsed": true
   },
   "outputs": [],
   "source": [
    "# Get a list of output files\n",
    "output_list = job.get_output_files()  \n",
    "\n",
    "for file in output_list:     # Loop through each output file\n",
    "    print( file.get_url() )  # Print the URL to the file\n",
    "    data = file.read()       # Read the data in the file "
   ]
  },
  {
   "cell_type": "markdown",
   "metadata": {},
   "source": [
    "Once the contents of a data file has been assigned to a variable, it may used in conjunction with other common Python libraries, such as matplotlib, pandas, numpy or scipy.\n",
    "\n",
    "The code below will print out the contents of the last output file assigned to the *data* variable in the previous code block."
   ]
  },
  {
   "cell_type": "code",
   "execution_count": null,
   "metadata": {
    "collapsed": true
   },
   "outputs": [],
   "source": [
    "print ( data )"
   ]
  },
  {
   "cell_type": "markdown",
   "metadata": {},
   "source": [
    "This concludes the tutorial on how to work with GenePattern using the GenePattern Python library. For more information, please see the [GenePattern Programmer's Guide](http://www.broadinstitute.org/cancer/software/genepattern/programmers-guide)."
   ]
  }
 ],
 "metadata": {
  "kernelspec": {
   "display_name": "Python (thesis)",
   "language": "python",
   "name": "thesis"
  },
  "language_info": {
   "codemirror_mode": {
    "name": "ipython",
    "version": 3
   },
   "file_extension": ".py",
   "mimetype": "text/x-python",
   "name": "python",
   "nbconvert_exporter": "python",
   "pygments_lexer": "ipython3",
   "version": "3.6.0"
  }
 },
 "nbformat": 4,
 "nbformat_minor": 2
}
